{
 "cells": [
  {
   "cell_type": "markdown",
   "id": "silent-station",
   "metadata": {},
   "source": [
    "### <span style=\"color:#900C3F\"><center>$ML$ $For$ $Bioinformatics$</center></span><span style=\"color:#C70039\"><center>$Assignment$ $\\#1$</center></span><span style=\"color:#FF5733\"><center>$Question$ $\\#6$</center></span><span style=\"color:#FFC300 \"><center>$Hadis$ $Ahmadian$ $400211524$</center></span>"
   ]
  },
  {
   "cell_type": "markdown",
   "id": "split-lexington",
   "metadata": {},
   "source": [
    "###  $Data$ $preperation$\n",
    "**1. importing needed libraries**"
   ]
  },
  {
   "cell_type": "code",
   "execution_count": 2,
   "id": "express-panel",
   "metadata": {},
   "outputs": [],
   "source": [
    "import random\n",
    "import numpy as np \n",
    "import pandas as pd \n",
    "from collections import Counter\n",
    "import math\n",
    "import matplotlib.pyplot as plt"
   ]
  },
  {
   "cell_type": "markdown",
   "id": "adjustable-there",
   "metadata": {},
   "source": [
    "**2. reading data from file:**\n",
    "\n",
    "* first we read data from file and save it in data variable\n",
    "* since age is a **none-categorical** attribute and has too many values, therfore it can cause problems in making a decision tree. a good aproach for solving this problem is categorizing age attribute wich means deviding ages into a few categories. for this means I used Equal **frequency binning** algorithm explained in link below:\n",
    "https://towardsdatascience.com/feature-engineering-deep-dive-into-encoding-and-binning-techniques-5618d55a6b38\n",
    "* you can see the resaulting categories in output (I categorized age in 4 categories)"
   ]
  },
  {
   "cell_type": "code",
   "execution_count": 411,
   "id": "received-causing",
   "metadata": {},
   "outputs": [
    {
     "name": "stdout",
     "output_type": "stream",
     "text": [
      "[21, 38, 39, 44, 44, 46, 47, 47, 47, 47, 48, 48, 49, 49, 49, 51, 51, 51, 51, 51, 51, 51, 51, 52, 52, 52, 52]\n",
      "[53, 53, 53, 53, 54, 54, 54, 54, 54, 54, 54, 54, 55, 55, 55, 55, 55, 55, 55, 55, 55, 55, 55, 56, 56, 56, 56, 56, 56, 56, 56, 56, 56, 56, 56, 56, 56, 56, 56, 56, 56, 56, 57, 57, 57, 57, 57, 57, 57, 57, 57, 58, 58, 58, 58, 58, 58, 58, 58, 58, 58, 58, 58, 58, 59, 59, 59, 59, 59, 59, 59, 59, 59, 59, 59, 59, 59, 59, 59, 60, 60, 60, 60, 60, 60, 60, 60, 60, 60, 60, 60, 60, 60, 60, 60, 60, 61, 61, 61, 61, 61, 61, 61, 61, 61, 61, 61, 61, 61, 61, 61, 61, 62, 62, 62, 62, 62, 62, 62, 62, 62, 62, 62, 62, 62, 62, 62, 62, 62, 62, 63, 63, 63, 63, 63, 63, 63, 63, 63, 63, 63, 63, 63, 63, 63, 63, 63, 63, 63]\n",
      "[64, 64, 64, 64, 64, 64, 64, 64, 64, 64, 64, 64, 64, 64, 64, 64, 64, 64, 64, 64, 65, 65, 65, 65, 65, 65, 65, 66, 66, 66, 66, 67, 67, 67, 67, 67, 67, 67, 67, 67, 67, 67, 67, 67, 68, 68, 68, 68, 68, 68, 68, 68, 68, 69, 69, 69, 69, 69, 69, 69, 69, 69, 69, 69, 70, 70, 70, 70, 70, 70, 70, 70, 70, 70, 70, 70, 70, 70, 70, 71, 71, 71, 71, 71, 71, 71, 71, 71, 71, 72, 72, 72, 72, 72, 72, 72, 72, 72, 72, 73, 73, 73, 73, 74, 74, 74, 74, 74, 74]\n",
      "[75, 75, 75, 75, 75, 76, 76, 76, 76, 77, 77, 77, 77, 77, 77, 77, 77, 77, 78, 78, 79, 81, 81, 87]\n"
     ]
    }
   ],
   "source": [
    "data = pd.read_csv ('lungcancer.csv')  \n",
    "\n",
    "X=list(data[\"AGE\"])\n",
    "X.sort()\n",
    "n=len(Counter(X).keys())\n",
    "\n",
    "name=[]\n",
    "for n in data:\n",
    "    name.append(n)\n",
    "\n",
    "tmp=[]\n",
    "cnt=0\n",
    "cate=[]\n",
    "for a in X:\n",
    "    if a not in tmp:\n",
    "        cnt+=1\n",
    "    tmp.append(a)\n",
    "    if cnt==11:\n",
    "        tmp.pop()\n",
    "        cnt=0\n",
    "        cate.append(tmp)\n",
    "        tmp=[a]\n",
    "cate.append(tmp)\n",
    "for c in cate:\n",
    "    print(c)"
   ]
  },
  {
   "cell_type": "markdown",
   "id": "flush-spending",
   "metadata": {},
   "source": [
    "* instead of each age, we replace its value by its category. you can see the result in output.\n",
    "* for ease of work in next sections, instead of \"M\" and \"F\" wich are Gender values, we replace 1 for M and 2 for F.you can see the result in output. "
   ]
  },
  {
   "cell_type": "code",
   "execution_count": 412,
   "id": "deluxe-actress",
   "metadata": {},
   "outputs": [
    {
     "name": "stdout",
     "output_type": "stream",
     "text": [
      "[3, 3, 2, 2, 2, 4, 1, 1, 3, 2, 2, 3, 2, 2, 3, 1, 4, 2, 3, 2, 1, 3, 1, 2, 3, 3, 2, 3, 2, 2, 2, 2, 2, 3, 2, 2, 2, 2, 2, 2, 3, 2, 4, 1, 3, 3, 2, 3, 3, 2, 2, 2, 2, 1, 2, 1, 2, 3, 1, 3, 3, 2, 3, 3, 3, 3, 2, 3, 4, 4, 3, 3, 3, 2, 2, 2, 4, 2, 3, 3, 2, 2, 2, 4, 2, 2, 3, 2, 2, 2, 2, 3, 1, 2, 1, 2, 2, 2, 3, 2, 2, 4, 3, 2, 3, 2, 2, 2, 1, 2, 2, 2, 3, 2, 3, 3, 2, 1, 2, 2, 4, 3, 2, 3, 3, 2, 1, 2, 2, 2, 1, 2, 2, 4, 3, 3, 2, 3, 2, 2, 1, 2, 3, 2, 3, 3, 1, 2, 3, 2, 3, 2, 3, 3, 3, 4, 1, 2, 2, 3, 2, 2, 3, 3, 4, 2, 2, 2, 1, 2, 2, 2, 2, 3, 3, 2, 3, 3, 2, 3, 2, 3, 3, 3, 3, 4, 3, 2, 3, 3, 3, 2, 1, 3, 2, 3, 3, 2, 3, 2, 2, 2, 3, 3, 4, 2, 3, 2, 3, 2, 2, 4, 2, 3, 2, 2, 3, 2, 3, 3, 2, 2, 4, 2, 2, 2, 3, 3, 2, 2, 4, 3, 2, 1, 4, 3, 2, 2, 1, 4, 3, 2, 4, 2, 3, 2, 3, 3, 3, 3, 3, 3, 2, 3, 3, 4, 2, 3, 3, 2, 2, 1, 3, 3, 3, 2, 2, 2, 2, 2, 3, 2, 3, 2, 2, 3, 2, 4, 4, 2, 2, 2, 1, 2, 2, 2, 2, 1, 2, 2, 4, 3, 3, 2, 3, 2, 2, 1, 2, 3, 2, 3, 3, 1, 2, 3, 2, 3, 2]\n",
      "[1, 1, 2, 1, 2, 2, 1, 2, 2, 1, 2, 1, 2, 1, 1, 2, 1, 1, 2, 2, 2, 2, 2, 1, 1, 1, 2, 1, 2, 1, 2, 1, 1, 2, 1, 2, 1, 2, 1, 1, 1, 1, 2, 1, 2, 1, 1, 2, 2, 1, 2, 1, 2, 1, 2, 1, 2, 1, 1, 1, 1, 2, 1, 2, 1, 2, 2, 1, 2, 2, 1, 2, 1, 2, 1, 1, 2, 1, 1, 2, 2, 2, 2, 2, 1, 1, 1, 1, 2, 2, 2, 2, 1, 2, 1, 1, 2, 1, 1, 1, 1, 2, 1, 1, 2, 2, 2, 2, 2, 1, 1, 1, 2, 1, 2, 2, 1, 2, 2, 2, 1, 1, 1, 2, 1, 2, 1, 1, 2, 2, 2, 2, 2, 1, 1, 1, 2, 1, 2, 1, 2, 1, 1, 2, 1, 2, 1, 2, 1, 1, 1, 1, 2, 1, 2, 1, 1, 2, 2, 1, 2, 1, 2, 1, 2, 1, 2, 1, 1, 1, 1, 2, 1, 2, 1, 2, 2, 1, 2, 2, 1, 2, 1, 2, 1, 1, 2, 1, 1, 2, 2, 2, 2, 2, 1, 1, 1, 1, 2, 2, 2, 2, 1, 2, 1, 1, 2, 1, 1, 1, 1, 2, 1, 1, 2, 2, 2, 2, 2, 1, 2, 1, 2, 1, 2, 1, 2, 1, 2, 1, 1, 1, 1, 2, 1, 2, 1, 2, 2, 2, 2, 1, 1, 1, 2, 1, 2, 1, 2, 1, 1, 2, 1, 2, 1, 2, 1, 1, 1, 1, 2, 1, 2, 2, 1, 2, 2, 1, 2, 1, 2, 1, 1, 2, 1, 1, 2, 2, 2, 2, 2, 1, 1, 1, 1, 2, 2, 2, 2, 2, 1, 1, 1, 2, 1, 2, 1, 2, 1, 1, 2, 1, 2, 1, 2, 1, 1, 1, 1]\n"
     ]
    }
   ],
   "source": [
    "age=list(data[\"AGE\"])\n",
    "for i in range(len(age)):\n",
    "    if age[i] in cate[0]:\n",
    "        age[i]=1\n",
    "    elif age[i] in cate[1]:\n",
    "        age[i]=2\n",
    "    elif age[i] in cate[2]:\n",
    "        age[i]=3\n",
    "    elif age[i] in cate[3]:\n",
    "        age[i]=4\n",
    "print(age)\n",
    "    \n",
    "gender=list(data[\"GENDER\"])\n",
    "for i in range(len(gender)):\n",
    "    if gender[i]==\"M\":\n",
    "        gender[i]=1\n",
    "    else:\n",
    "        gender[i]=2\n",
    "print(gender)"
   ]
  },
  {
   "cell_type": "markdown",
   "id": "civil-scott",
   "metadata": {},
   "source": [
    "now we update attributes with their new explained value."
   ]
  },
  {
   "cell_type": "code",
   "execution_count": 413,
   "id": "graphic-serum",
   "metadata": {},
   "outputs": [],
   "source": [
    "data_list=[age,gender]\n",
    "for d in data:\n",
    "    if d==\"AGE\" or d==\"GENDER\":\n",
    "        continue\n",
    "    \n",
    "    data_list.append(list(data[d]))"
   ]
  },
  {
   "cell_type": "markdown",
   "id": "pressing-edwards",
   "metadata": {},
   "source": [
    "for ease of work we transpose the data matrix, rows will be samples and collumns are attributes."
   ]
  },
  {
   "cell_type": "code",
   "execution_count": 414,
   "id": "pending-vietnam",
   "metadata": {},
   "outputs": [
    {
     "name": "stdout",
     "output_type": "stream",
     "text": [
      "[3, 1, 1, 2, 2, 1, 1, 2, 1, 2, 2, 2, 2, 2, 2, 'YES']\n"
     ]
    }
   ],
   "source": [
    "data_list = list(zip(*data_list))\n",
    "for i in range(len(data_list)):\n",
    "    data_list[i]=list(data_list[i])\n",
    "print(data_list[0])\n"
   ]
  },
  {
   "cell_type": "markdown",
   "id": "instructional-start",
   "metadata": {},
   "source": [
    "### $Functions_{part1}$\n",
    "**Entropy** : calculates entropy of data wich has a samples of class A and b samples of class B."
   ]
  },
  {
   "cell_type": "code",
   "execution_count": null,
   "id": "spread-crystal",
   "metadata": {},
   "outputs": [],
   "source": [
    "def antropy(a,b):\n",
    "    n=a+b\n",
    "    if a==0 or b==0:\n",
    "        return 0\n",
    "    return -(a/n)*math.log(a/n,2)-(b/n)*math.log(b/n,2)\n",
    "    "
   ]
  },
  {
   "cell_type": "markdown",
   "id": "explicit-probability",
   "metadata": {},
   "source": [
    "**Gain** : calculates the gain obtained from using attribute c as next decision node for data."
   ]
  },
  {
   "cell_type": "code",
   "execution_count": null,
   "id": "minimal-uniform",
   "metadata": {},
   "outputs": [],
   "source": [
    "def gain(c,data):\n",
    "    a1=0\n",
    "    b1=0\n",
    "    a2=0\n",
    "    b2=0\n",
    "    for d in data:\n",
    "        if d[c]==1:\n",
    "            \n",
    "            if d[15]==\"YES\":\n",
    "                a1+=1\n",
    "\n",
    "            else:\n",
    "                b1+=1\n",
    "        else:\n",
    "            if d[15]==\"YES\":\n",
    "                a2+=1\n",
    "            else:\n",
    "                b2+=1\n",
    "    n1=a1+b1\n",
    "    n2=a2+b2\n",
    "    n=n1+n2\n",
    "    an=antropy(a1+a2,b1+b2)\n",
    "    pos=antropy(a1,b1)\n",
    "    neg=antropy(a2,b2)\n",
    "    r=an-((n1/n)*pos)-((n2/n)*neg)\n",
    "    return r\n",
    "    "
   ]
  },
  {
   "cell_type": "markdown",
   "id": "brave-event",
   "metadata": {},
   "source": [
    "**Gain_age** : since age has 4 values rather than two values, we define another gain function for it."
   ]
  },
  {
   "cell_type": "code",
   "execution_count": 11,
   "id": "minus-vector",
   "metadata": {},
   "outputs": [],
   "source": [
    "def gain_age(data):\n",
    "    a1=0\n",
    "    b1=0\n",
    "    a2=0\n",
    "    b2=0\n",
    "    a3=0\n",
    "    b3=0\n",
    "    a4=0\n",
    "    b4=0\n",
    "    for d in data:\n",
    "        if d[0]==1:\n",
    "            if d[15]==\"YES\":\n",
    "                a1+=1\n",
    "\n",
    "            else:\n",
    "                b1+=1\n",
    "        elif d[0]==2:\n",
    "            if d[15]==\"YES\":\n",
    "                a2+=1\n",
    "            else:\n",
    "                b2+=1\n",
    "        elif d[0]==3:\n",
    "            if d[15]==\"YES\":\n",
    "                a3+=1\n",
    "            else:\n",
    "                b3+=1\n",
    "        elif d[0]==4:\n",
    "            if d[15]==\"YES\":\n",
    "                a4+=1\n",
    "            else:\n",
    "                b4+=1\n",
    "        \n",
    "    n1=a1+b1\n",
    "    n2=a2+b2\n",
    "    n3=a3+b3\n",
    "    n4=a4+b4\n",
    "    \n",
    "    n=n1+n2+n3+n4\n",
    "    \n",
    "    an=antropy(a1+a2+a3+a4,b1+b2+b3+b4)\n",
    "    A1=antropy(a1,b1)\n",
    "    A2=antropy(a2,b2)\n",
    "    A3=antropy(a3,b3)\n",
    "    A4=antropy(a4,b4)\n",
    "\n",
    "    r=an-((n1/n)*A1)-((n2/n)*A2)-((n3/n)*A3)-((n4/n)*A4)\n",
    "    return r\n",
    "    "
   ]
  },
  {
   "cell_type": "markdown",
   "id": "compressed-feedback",
   "metadata": {},
   "source": [
    "**new_data** : seperates data with respect to its value of attribute c and returns each fraction of data."
   ]
  },
  {
   "cell_type": "code",
   "execution_count": 12,
   "id": "ambient-buffalo",
   "metadata": {},
   "outputs": [],
   "source": [
    "def new_data(c,data):\n",
    "    data1=[]\n",
    "    data2=[]\n",
    "    for d in data:\n",
    "        if d[c]==1:\n",
    "            data1.append(d)\n",
    "        else:\n",
    "            data2.append(d)\n",
    "    return (data1,data2)"
   ]
  },
  {
   "cell_type": "markdown",
   "id": "greatest-resident",
   "metadata": {},
   "source": [
    "**new_data_age** : age has 4 values rather than 2, so it needs another seperation function."
   ]
  },
  {
   "cell_type": "code",
   "execution_count": 13,
   "id": "north-riding",
   "metadata": {},
   "outputs": [],
   "source": [
    "def new_data_agae(data):\n",
    "    data1=[]\n",
    "    data2=[]\n",
    "    data3=[]\n",
    "    data4=[]\n",
    "    for d in data:\n",
    "        if d[0]==1:\n",
    "            data1.append(d)\n",
    "        elif d[0]==2:\n",
    "            data2.append(d)\n",
    "        elif d[0]==3:\n",
    "            data3.append(d)\n",
    "        elif d[0]==4:\n",
    "            data4.append(d)\n",
    "    return (data1,data2,data3,data4)"
   ]
  },
  {
   "cell_type": "markdown",
   "id": "average-number",
   "metadata": {},
   "source": [
    "**leaf** : determines if a certain fraction of data(a node in tree) is pure(meaning it is a leaf if tree) and returns its coresponding pure value (YES or NO), if the fraction has no samples, it will be labeld UNKNOWN."
   ]
  },
  {
   "cell_type": "code",
   "execution_count": 14,
   "id": "steady-insertion",
   "metadata": {},
   "outputs": [],
   "source": [
    "def leaf(data):\n",
    "    if len(data)==0:\n",
    "        return \"UNKNOWN\"\n",
    "    sth=data[0][15]\n",
    "    for d in data:\n",
    "        if d[15]!=sth:\n",
    "            return False\n",
    "    return sth"
   ]
  },
  {
   "cell_type": "markdown",
   "id": "latin-bleeding",
   "metadata": {},
   "source": [
    "**ID3** : now using above functions, we are ready to define ID3. in each step it finds the attribute wich has the max gain and makes the next node based on it, seperates data with respect to it and continues the steps recursively until tree is made. note that if in a branch, all remaining attributes have gain 0, meaning data can't be purified by any of them more than it already has, we label the unpured leaf as \"UNKNOWN\"."
   ]
  },
  {
   "cell_type": "code",
   "execution_count": 15,
   "id": "capital-psychology",
   "metadata": {},
   "outputs": [],
   "source": [
    "def ID3(k,data,done,s):\n",
    "    global T\n",
    "    global v\n",
    "    global m\n",
    "\n",
    "    m+=1\n",
    "    if leaf(data)!=False:\n",
    "        T[(s,k)]=m\n",
    "        v[m]=leaf(data)\n",
    "        return\n",
    "    \n",
    "    ma=(0,gain_age(data))\n",
    "    for i in range(1,15):\n",
    "        if gain(i,data)>=ma[1] and i not in done:\n",
    "            ma=(i,gain(i,data))\n",
    "            \n",
    "    if ma[1]==0:\n",
    "        T[(s,k)]=m\n",
    "        v[m]=\"UNKNOWN\"\n",
    "        return\n",
    "    \n",
    "    T[(s,k)]=m\n",
    "    v[m]=ma[0]\n",
    "    s1=m\n",
    "    done.append(ma[0])\n",
    "    d1=done[:]\n",
    "    d2=done[:]\n",
    "    if ma[0]!=0:\n",
    "        new_datas=new_data(ma[0],data)\n",
    "        ID3(1,new_datas[0],d1,s1)\n",
    "        ID3(2,new_datas[1],d2,s1)\n",
    "    else:\n",
    "        new_datas=new_data_agae(data)\n",
    "        ID3(1,new_datas[0],d1,s1)\n",
    "        ID3(2,new_datas[1],d2,s1)\n",
    "        ID3(3,new_datas[2],d1,s1)\n",
    "        ID3(4,new_datas[3],d2,s1)\n"
   ]
  },
  {
   "cell_type": "markdown",
   "id": "ranking-wyoming",
   "metadata": {},
   "source": [
    "**Acc** : calculates accuracy of predicted labels with respect to true labels()."
   ]
  },
  {
   "cell_type": "code",
   "execution_count": 16,
   "id": "rocky-sense",
   "metadata": {},
   "outputs": [],
   "source": [
    "def acc(a,b):\n",
    "    c=0\n",
    "    for i in range(len(b)):\n",
    "        if a[i]==b[i]:\n",
    "            c+=1\n",
    "    return (c/len(b))\n",
    "        "
   ]
  },
  {
   "cell_type": "code",
   "execution_count": 204,
   "id": "convinced-stone",
   "metadata": {},
   "outputs": [],
   "source": [
    "def predict(tree,value,data):\n",
    "    p=[]\n",
    "    for d in data:\n",
    "        n=1\n",
    "        while value[n]!=\"YES\" and value[n]!=\"NO\" and value[n]!=\"UNKNOWN\":\n",
    "            n=tree[n,d[value[n]]]\n",
    "        p.append(value[n])\n",
    "    return p"
   ]
  },
  {
   "cell_type": "markdown",
   "id": "specific-biodiversity",
   "metadata": {},
   "source": [
    "**run_with_percent** : runs ID3 on data_list (r% train and 100-r% test) for \"times\" times, calculates average accuracy and returns it."
   ]
  },
  {
   "cell_type": "code",
   "execution_count": 18,
   "id": "blond-destiny",
   "metadata": {},
   "outputs": [],
   "source": [
    "def run_with_percent(data_list,r,times):\n",
    "    global T\n",
    "    global v\n",
    "    global m\n",
    "\n",
    "    s=0\n",
    "    for i in range(times):\n",
    "        random.shuffle(data_list)\n",
    "        T={}\n",
    "        v={}\n",
    "        m=0\n",
    "        ID3(0,data_list[:int((r)*len(data_list))],[],0)\n",
    "        a=predict(T,v,data_list[int((r)*len(data_list))+1:])\n",
    "        b=[]\n",
    "        for d in data_list[int((r)*len(data_list))+1:]:\n",
    "            b.append(d[15])\n",
    "        s+=acc(a,b)\n",
    "    print(r,\":\",(s/times)*100,\"\\n....................................................\\n\")"
   ]
  },
  {
   "cell_type": "markdown",
   "id": "august-cross",
   "metadata": {},
   "source": [
    "### $Part$ $One$ :\n",
    "running ID3 on data. 5 times on each 25,35,45,55,65,75% of data and calculate their mean accuracy with the rest of data.\n",
    "* T is the Tree that is made\n",
    "* v is value of each node of T\n",
    "* m is for keeping track of node numbers during ID3"
   ]
  },
  {
   "cell_type": "code",
   "execution_count": 404,
   "id": "reasonable-electronics",
   "metadata": {},
   "outputs": [
    {
     "name": "stdout",
     "output_type": "stream",
     "text": [
      "0.25 : 82.42424242424242 \n",
      "....................................................\n",
      "\n",
      "0.35 : 83.2 \n",
      "....................................................\n",
      "\n",
      "0.45 : 85.08875739644971 \n",
      "....................................................\n",
      "\n",
      "0.55 : 84.1726618705036 \n",
      "....................................................\n",
      "\n",
      "0.65 : 84.07407407407408 \n",
      "....................................................\n",
      "\n",
      "0.75 : 83.63636363636363 \n",
      "....................................................\n",
      "\n"
     ]
    }
   ],
   "source": [
    "global T\n",
    "global v\n",
    "global m\n",
    "\n",
    "for r in [0.25,0.35,0.45,0.55,0.65,0.75]:\n",
    "    run_with_percent(data_list[:],r,5)"
   ]
  },
  {
   "cell_type": "markdown",
   "id": "central-consultancy",
   "metadata": {},
   "source": [
    "we can see that by increasing training data accuracy increases until a point and then because of overfitting, accuracy dereases."
   ]
  },
  {
   "cell_type": "code",
   "execution_count": 405,
   "id": "alert-reporter",
   "metadata": {
    "scrolled": true
   },
   "outputs": [
    {
     "data": {
      "image/png": "[encoded data removed]",
      "text/plain": [
       "<Figure size 432x288 with 1 Axes>"
      ]
     },
     "metadata": {
      "needs_background": "light"
     },
     "output_type": "display_data"
    }
   ],
   "source": [
    "X=[0.25,0.35,0.45,0.55,0.65,0.75]\n",
    "Y=[ 82.42424242424242  ,83.2 ,85.08875739644971 ,84.1726618705036  ,84.07407407407408  , 83.63636363636363  ]\n",
    "\n",
    "plt.plot(X,Y,color=\"orange\")\n",
    "plt.title(\"Acuuray witch respect to percentage of data used as training\")\n",
    "plt.xlabel(\"Percentage\")\n",
    "plt.ylabel(\"Acuuray\")\n",
    "plt.show()"
   ]
  },
  {
   "cell_type": "markdown",
   "id": "stable-pharmacology",
   "metadata": {},
   "source": [
    "### $Functions_{part2}$\n",
    "**find_deepest** : finds deepest unvisited node, candidate for pruning. "
   ]
  },
  {
   "cell_type": "code",
   "execution_count": null,
   "id": "dying-travel",
   "metadata": {},
   "outputs": [],
   "source": [
    "def find_deepest():\n",
    "    global depth_visit\n",
    "    m=-1\n",
    "    m_i=-1\n",
    "    for i in range(len(depth_visit)):\n",
    "        if depth_visit[i][0]>m and depth_visit[i][1]==0:\n",
    "            m=depth_visit[i][0]\n",
    "            m_i=i\n",
    "    \n",
    "    depth_visit[m_i]=(depth_visit[m_i][0],1)\n",
    "    return m_i\n",
    "            "
   ]
  },
  {
   "cell_type": "markdown",
   "id": "opening-difficulty",
   "metadata": {},
   "source": [
    "**find_val** : returns the label that a node should have, if its children got pruned. the decision is made by counting the labels of samples under the node and returns the label in majority."
   ]
  },
  {
   "cell_type": "code",
   "execution_count": 355,
   "id": "ancient-token",
   "metadata": {},
   "outputs": [],
   "source": [
    "def find_val(data,value,tree,node):\n",
    "    c_Y=0\n",
    "    c_N=0\n",
    "    for d in data:\n",
    "        flag=False\n",
    "        n=1\n",
    "        while value[n]!=\"YES\" and value[n]!=\"NO\" and value[n]!=\"UNKNOWN\":\n",
    "            if n==node:\n",
    "                flag=True\n",
    "            n=tree[n,d[value[n]]]\n",
    "        if flag:\n",
    "            if d[15]==\"YES\":\n",
    "                c_Y+=1\n",
    "            else:\n",
    "                c_N+=1\n",
    "            \n",
    "    if c_Y==c_N:\n",
    "        return \"UNKNOWN\"\n",
    "    elif c_Y>c_N:\n",
    "        return \"YES\"\n",
    "    else:\n",
    "        return \"NO\""
   ]
  },
  {
   "cell_type": "markdown",
   "id": "compound-briefs",
   "metadata": {},
   "source": [
    "**prune** : prunes the deepest unvisited node and returnes number of node and values of the pruned tree."
   ]
  },
  {
   "cell_type": "code",
   "execution_count": 356,
   "id": "republican-people",
   "metadata": {},
   "outputs": [],
   "source": [
    "def prune(tree,value,data):\n",
    "    node=find_deepest()\n",
    "    val=find_val(data,value,tree,node)\n",
    "    return node,val"
   ]
  },
  {
   "cell_type": "markdown",
   "id": "architectural-request",
   "metadata": {},
   "source": [
    "**check_if_better** : checks if the pruned tree is better then the original tree, if the accuracy on test set in increases by pruning it returns TRUE."
   ]
  },
  {
   "cell_type": "code",
   "execution_count": 358,
   "id": "extreme-shelter",
   "metadata": {},
   "outputs": [],
   "source": [
    "def check_if_better(val,tst):\n",
    "    a=predict(T,v,tst)\n",
    "    b=[]\n",
    "    for d in data_list[int((r)*len(data_list))+1:]:\n",
    "        b.append(d[15])\n",
    "    original=acc(a,b)\n",
    "    \n",
    "    v_prune={}\n",
    "    for i in range(len(v)):\n",
    "        if i==val[0]:\n",
    "            v_prune[val[0]]=val[1]\n",
    "        else:\n",
    "            v_prune[i]=v[i]\n",
    "    \n",
    "\n",
    "    a=predict(T,v_prune,tst)\n",
    "    b=[]\n",
    "    for d in data_list[int((r)*len(data_list))+1:]:\n",
    "        b.append(d[15])\n",
    "    pruned=acc(a,b)\n",
    "    \n",
    "    return original<pruned"
   ]
  },
  {
   "cell_type": "markdown",
   "id": "weighted-freeze",
   "metadata": {},
   "source": [
    "**init_prune** : initializes variables needed for pruning such as depth of each node and if the nodes are visited for pruning."
   ]
  },
  {
   "cell_type": "code",
   "execution_count": 444,
   "id": "monthly-fossil",
   "metadata": {},
   "outputs": [],
   "source": [
    "def init_prune(lvl,n):\n",
    "    global depth_visit,T,v\n",
    "    if v[n]==\"YES\" or v[n]==\"NO\" or v[n]==\"UNKNOWN\":\n",
    "        depth_visit[n]=(-1,1)\n",
    "        return\n",
    "    depth_visit[n]=(lvl+1,0)\n",
    "    lvl+=1\n",
    "    if n==0:\n",
    "        init_prune(lvl,T[n,0])\n",
    "    elif v[n]==0:\n",
    "        init_prune(lvl,T[n,1])\n",
    "        init_prune(lvl,T[n,2])\n",
    "        init_prune(lvl,T[n,3])\n",
    "        init_prune(lvl,T[n,4])\n",
    "    else:\n",
    "        init_prune(lvl,T[n,1])\n",
    "        init_prune(lvl,T[n,2])"
   ]
  },
  {
   "cell_type": "markdown",
   "id": "improving-diving",
   "metadata": {},
   "source": [
    "**still_an_option** : chekes if there are still options available for pruning"
   ]
  },
  {
   "cell_type": "code",
   "execution_count": 445,
   "id": "saved-burlington",
   "metadata": {},
   "outputs": [],
   "source": [
    "def still_an_option():\n",
    "    for i in range(len(depth_visit)):\n",
    "        if depth_visit[i][1]==0:\n",
    "            return True\n",
    "    return False"
   ]
  },
  {
   "cell_type": "markdown",
   "id": "brazilian-memorial",
   "metadata": {},
   "source": [
    "**log_accuracy** : keeps track and saves the accuracy in each level of pruning of train and test data for plotting it later."
   ]
  },
  {
   "cell_type": "code",
   "execution_count": 462,
   "id": "encouraging-diagnosis",
   "metadata": {},
   "outputs": [],
   "source": [
    "def log_acc(acc_tr,acc_tst,tst,trn):\n",
    "    a=predict(T,v,trn)\n",
    "    b=[]\n",
    "    for d in trn:\n",
    "        b.append(d[15])\n",
    "    acc_tr.append(acc(a,b))\n",
    "    \n",
    "    a=predict(T,v,tst)\n",
    "    b=[]\n",
    "    for d in tst:\n",
    "        b.append(d[15])\n",
    "    acc_tst.append(acc(a,b))\n"
   ]
  },
  {
   "cell_type": "markdown",
   "id": "leading-anxiety",
   "metadata": {},
   "source": [
    "### $Part$ $Two$\n",
    "* initializing needed variables\n",
    "* choose 0.75 of data as train and 0.25 as test\n",
    "* run ID3 on train set"
   ]
  },
  {
   "cell_type": "code",
   "execution_count": 547,
   "id": "compact-lunch",
   "metadata": {},
   "outputs": [],
   "source": [
    "global depth_visit\n",
    "depth_visit={}\n",
    "init_prune(-1,0)\n",
    "\n",
    "r=0.75\n",
    "random.shuffle(data_list)\n",
    "trn=data_list[:int((r)*len(data_list))]\n",
    "tst=data_list[int((r)*len(data_list))+1:]\n",
    "\n",
    "T={}\n",
    "v={}\n",
    "v[0]=1\n",
    "m=0\n",
    "ID3(0,trn[:],[],0)\n"
   ]
  },
  {
   "cell_type": "markdown",
   "id": "legal-tackle",
   "metadata": {},
   "source": [
    "* prune nodes that increase accuracy on test set until no available nodes for pruning are left"
   ]
  },
  {
   "cell_type": "code",
   "execution_count": 548,
   "id": "constitutional-asset",
   "metadata": {},
   "outputs": [],
   "source": [
    "depth=[]\n",
    "acc_tr=[]\n",
    "acc_tst=[]\n",
    "\n",
    "#log_acc(acc_tr,acc_tst,tst[:],trn[:]) \n",
    "while still_an_option():\n",
    "    #log_acc(acc_tr,acc_tst,tst[:],trn[:])\n",
    "    VNew=prune(T,v,trn)\n",
    "    if check_if_better(VNew,tst):\n",
    "        v[VNew[0]]=VNew[1]\n",
    "        \n",
    "    log_acc(acc_tr,acc_tst,tst[:],trn[:]) \n",
    "    depth.append(depth_visit[VNew[0]][0])"
   ]
  },
  {
   "cell_type": "markdown",
   "id": "naval-controversy",
   "metadata": {},
   "source": [
    "ploting accuracy on train and test set with respect to depth of tree, we can see that by increasing the depth, acuuracy of training increases but accuracy of test decreses, this is because in grater depth, treeis less generalized and is overfitted. by pruning (less depth of tree) accuracy on test set increases this means tree becomes more general and therfore useful."
   ]
  },
  {
   "cell_type": "code",
   "execution_count": 549,
   "id": "sensitive-sandwich",
   "metadata": {},
   "outputs": [
    {
     "data": {
      "image/png": "[encoded data removed]",
      "text/plain": [
       "<Figure size 432x288 with 1 Axes>"
      ]
     },
     "metadata": {
      "needs_background": "light"
     },
     "output_type": "display_data"
    }
   ],
   "source": [
    "plt.plot(depth,acc_tr,color=\"purple\",label=\"Train\")\n",
    "plt.plot(depth,acc_tst,color=\"pink\",label=\"Test\")\n",
    "plt.title(\"Accuracy on train and test set with respect to depth of tree\")\n",
    "plt.xlabel(\"Depth\")\n",
    "plt.ylabel(\"Acuuray\")\n",
    "plt.legend()\n",
    "plt.show()"
   ]
  }
 ],
 "metadata": {
  "kernelspec": {
   "display_name": "Python 3",
   "language": "python",
   "name": "python3"
  },
  "language_info": {
   "codemirror_mode": {
    "name": "ipython",
    "version": 3
   },
   "file_extension": ".py",
   "mimetype": "text/x-python",
   "name": "python",
   "nbconvert_exporter": "python",
   "pygments_lexer": "ipython3",
   "version": "3.7.4"
  }
 },
 "nbformat": 4,
 "nbformat_minor": 5
}
