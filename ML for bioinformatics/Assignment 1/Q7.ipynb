{
 "cells": [
  {
   "cell_type": "markdown",
   "id": "sixth-dairy",
   "metadata": {},
   "source": [
    "### <span style=\"color:#900C3F\"><center>$ML$ $For$ $Bioinformatics$</center></span><span style=\"color:#C70039\"><center>$Assignment$ $\\#1$</center></span><span style=\"color:#FF5733\"><center>$Question$ $\\#7$</center></span><span style=\"color:#FFC300 \"><center>$Hadis$ $Ahmadian$ $400211524$</center></span>"
   ]
  },
  {
   "cell_type": "markdown",
   "id": "modular-friend",
   "metadata": {},
   "source": [
    "### $prepering$ $data$\n",
    "* importing needed libraris\n",
    "* y(x) in a function that recives x and returns $3+0.4*x+delta$ that delta is a unoformly random distributed value in [-10,10]\n",
    "* for x in [0,100] we'll calculate corresponding y and save them in X and Y lists\n",
    "* choose 90% of data as training data and keep the rest for testing. we save them in train_x,train_y,test_x and test_y variables\n"
   ]
  },
  {
   "cell_type": "code",
   "execution_count": 21,
   "id": "middle-antique",
   "metadata": {},
   "outputs": [],
   "source": [
    "import random\n",
    "import numpy as np\n",
    "import matplotlib.pyplot as plt"
   ]
  },
  {
   "cell_type": "code",
   "execution_count": 3,
   "id": "applied-north",
   "metadata": {},
   "outputs": [],
   "source": [
    "def y(x):\n",
    "    delta=random.uniform(-10,10)\n",
    "    return 3+0.4*x+delta"
   ]
  },
  {
   "cell_type": "code",
   "execution_count": 4,
   "id": "manufactured-parts",
   "metadata": {},
   "outputs": [],
   "source": [
    "X=[]\n",
    "Y=[]\n",
    "for i in range(101):\n",
    "    X.append(i)\n",
    "for x in X:\n",
    "    Y.append(y(x))"
   ]
  },
  {
   "cell_type": "code",
   "execution_count": 5,
   "id": "designed-jacksonville",
   "metadata": {},
   "outputs": [],
   "source": [
    "train_x=np.random.choice(X, size=90, replace=False)\n",
    "train_y=[]\n",
    "for t in train_x:\n",
    "    train_y.append(Y[t])\n",
    "train_x=list(train_x)"
   ]
  },
  {
   "cell_type": "code",
   "execution_count": 6,
   "id": "lucky-timer",
   "metadata": {},
   "outputs": [],
   "source": [
    "test_x=[]\n",
    "test_y=[]\n",
    "for i in range(101):\n",
    "    if i not in(train_x):\n",
    "        test_x.append(i)\n",
    "for t in test_x:\n",
    "    test_y.append(Y[t])\n"
   ]
  },
  {
   "cell_type": "markdown",
   "id": "psychological-belgium",
   "metadata": {},
   "source": [
    "### $linear$ $regression$\n",
    "* knowing that $W^{*}=(X^TX)^{-1}X^Tt$ by constructing X and t matrix from training data, and doing the calculations, we will have $W^*$ matrix and therfore $w_0$ and $w_1$"
   ]
  },
  {
   "cell_type": "code",
   "execution_count": 12,
   "id": "ceramic-michigan",
   "metadata": {},
   "outputs": [
    {
     "name": "stdout",
     "output_type": "stream",
     "text": [
      "[w0 , w1] =\n",
      "[2.96358331 0.40781028]\n"
     ]
    }
   ],
   "source": [
    "X_matrix=[]\n",
    "for x in train_x:\n",
    "    X_matrix.append([1,x])\n",
    "X_matrix_t=[[1 for _ in range(len(train_x))],train_x]\n",
    "a = np.array(X_matrix)\n",
    "b = np.array(X_matrix_t)\n",
    "e=np.array(train_y)\n",
    "c=np.matmul(b, a)\n",
    "c=np.linalg.inv(c)\n",
    "d=np.matmul(c, b)\n",
    "d=np.matmul(d, e)\n",
    "print(\"[w0 ,\",\"w1] =\")\n",
    "print(d)\n"
   ]
  },
  {
   "cell_type": "markdown",
   "id": "subjective-parts",
   "metadata": {},
   "source": [
    "**error** : function to calculate error of model on train data\n",
    "* predicted value and true value for each test data and the final SSE error ($\\frac{1}{2}\\sum_{i=1}^n(y_i - w_0+W_1*x_i)^2$) is reported"
   ]
  },
  {
   "cell_type": "code",
   "execution_count": 28,
   "id": "corrected-locking",
   "metadata": {},
   "outputs": [],
   "source": [
    "def error(w0,w1,X_t,Y_t):\n",
    "    s=0\n",
    "    for i in range(len(X_t)):\n",
    "        s+=(((Y_t[i])-(w0+w1*X_t[i]))**2)\n",
    "        print((Y_t[i]),(w0+w1*X_t[i]))\n",
    "    print(\"ERROR:\",(0.5)*s)"
   ]
  },
  {
   "cell_type": "code",
   "execution_count": 50,
   "id": "capital-event",
   "metadata": {},
   "outputs": [],
   "source": [
    "def error_noPrint(w0,w1,X_t,Y_t):\n",
    "    s=0\n",
    "    for i in range(len(X_t)):\n",
    "        s+=(((Y_t[i])-(w0+w1*X_t[i]))**2)\n",
    "    return (0.5)*s"
   ]
  },
  {
   "cell_type": "code",
   "execution_count": 29,
   "id": "involved-piano",
   "metadata": {},
   "outputs": [
    {
     "name": "stdout",
     "output_type": "stream",
     "text": [
      "True value         Predicted value\n",
      "12.526535023973882 5.818255262646792\n",
      "-2.0813986414954524 7.857306657761599\n",
      "15.93266723784173 8.265116936784562\n",
      "10.709372996895981 10.711978610922332\n",
      "23.238582276459262 14.382271122128985\n",
      "17.74212245686465 26.208769213794874\n",
      "27.664567611896427 26.616579492817834\n",
      "24.267295373888828 33.95716451523114\n",
      "27.2328801969761 34.3649747942541\n",
      "38.74941446907105 35.99621591034595\n",
      "40.032102724504746 40.889939258621496\n",
      "ERROR: 253.43158580037527\n"
     ]
    }
   ],
   "source": [
    "w0=d[0]\n",
    "w1=d[1]\n",
    "print(\"True value         Predicted value\")\n",
    "error(w0,w1,test_x,test_y)"
   ]
  },
  {
   "cell_type": "code",
   "execution_count": 30,
   "id": "academic-warrant",
   "metadata": {},
   "outputs": [
    {
     "data": {
      "image/png": "[encoded data removed]",
      "text/plain": [
       "<Figure size 432x288 with 1 Axes>"
      ]
     },
     "metadata": {
      "needs_background": "light"
     },
     "output_type": "display_data"
    }
   ],
   "source": [
    "w00=w0\n",
    "w11=w1\n",
    "plt.scatter(test_x,test_y,color=\"red\",label=\"test data\")\n",
    "plt.plot(test_x,[w00+w11*x for x in test_x],color=\"black\",label=\"LR model\")\n",
    "plt.legend()\n",
    "plt.show()"
   ]
  },
  {
   "cell_type": "markdown",
   "id": "minute-manchester",
   "metadata": {},
   "source": [
    "### $linear$ $regression$\n",
    "**steps**: returning the Gradiant of model in a certain state"
   ]
  },
  {
   "cell_type": "code",
   "execution_count": 32,
   "id": "saved-leave",
   "metadata": {},
   "outputs": [],
   "source": [
    "def steps(x,y,w0,w1,r):\n",
    "    s0=0\n",
    "    s1=0\n",
    "    for i in range(len(x)):\n",
    "        s0+=((y[i]-(w0+w1*x[i]))*r)\n",
    "        s1+=(x[i]*(y[i]-(w0+w1*x[i]))*r)\n",
    "    return (s0/len(x),s1/len(x))"
   ]
  },
  {
   "cell_type": "markdown",
   "id": "authorized-genetics",
   "metadata": {},
   "source": [
    "* setting some varibles, w0 and w1 initialized to 0.5, learning rate is 0.0001 and batch_size is considerd 5, the algorithm is going to run for 1000 time\n",
    "* running SGD for 1000 times results in refining w0 and w1 in each step with respect to the gradiant\n",
    "* final values of w0 and w1 are reported"
   ]
  },
  {
   "cell_type": "code",
   "execution_count": 33,
   "id": "banner-barbados",
   "metadata": {},
   "outputs": [
    {
     "name": "stdout",
     "output_type": "stream",
     "text": [
      "0.5641393201270186 0.4318244232044296\n"
     ]
    }
   ],
   "source": [
    "w0=0.5\n",
    "w1=0.5\n",
    "r=0.0001\n",
    "step=1000\n",
    "b_size=5\n",
    "for i in range(step):\n",
    "    b=np.random.choice(train_x, size=b_size, replace=False)\n",
    "    y_b=[Y[b[i]] for i in range(len(b))]\n",
    "    new_W=steps(b,y_b,w0,w1,r)\n",
    "    w0+=new_W[0]\n",
    "    w1+=new_W[1]\n",
    "print(w0,w1)\n"
   ]
  },
  {
   "cell_type": "markdown",
   "id": "excited-collection",
   "metadata": {},
   "source": [
    "* predicted value and true value for each test data and the final SSE error ($\\frac{1}{2}\\sum_{i=1}^n(y_i - w_0+W_1*x_i)^2$) is reported"
   ]
  },
  {
   "cell_type": "code",
   "execution_count": 34,
   "id": "legendary-cycle",
   "metadata": {},
   "outputs": [
    {
     "name": "stdout",
     "output_type": "stream",
     "text": [
      "True value         Predicted value\n",
      "12.526535023973882 3.586910282558026\n",
      "-2.0813986414954524 5.746032398580175\n",
      "15.93266723784173 6.177856821784603\n",
      "10.709372996895981 8.768803361011182\n",
      "23.238582276459262 12.655223169851048\n",
      "17.74212245686465 25.178131442779506\n",
      "27.664567611896427 25.609955865983935\n",
      "24.267295373888828 33.38279548366367\n",
      "27.2328801969761 33.814619906868096\n",
      "38.74941446907105 35.54191759968582\n",
      "40.032102724504746 40.723810678138975\n",
      "ERROR: 274.4044944670975\n"
     ]
    }
   ],
   "source": [
    "print(\"True value         Predicted value\")\n",
    "error(w0,w1,test_x,test_y)"
   ]
  },
  {
   "cell_type": "code",
   "execution_count": 35,
   "id": "broke-assurance",
   "metadata": {
    "scrolled": true
   },
   "outputs": [
    {
     "data": {
      "image/png": "[encoded data removed]",
      "text/plain": [
       "<Figure size 432x288 with 1 Axes>"
      ]
     },
     "metadata": {
      "needs_background": "light"
     },
     "output_type": "display_data"
    }
   ],
   "source": [
    "plt.scatter(test_x,test_y,color=\"red\", label=\"test data\")\n",
    "plt.plot(test_x,[w0+w1*x for x in test_x],color=\"black\",label=\"SGD model\")\n",
    "plt.legend()\n",
    "plt.show()"
   ]
  },
  {
   "cell_type": "markdown",
   "id": "earlier-cloud",
   "metadata": {},
   "source": [
    "### $k-fold$ $and$ $l^2$ $regularisation$\n",
    "**steps_regular**: returning the Gradiant of model(with L2 reguliser) in a certain state"
   ]
  },
  {
   "cell_type": "code",
   "execution_count": 51,
   "id": "proprietary-helena",
   "metadata": {},
   "outputs": [],
   "source": [
    "def steps_regular(x,y,w0,w1,r,l):\n",
    "    s0=0\n",
    "    s1=0\n",
    "    s0+=((y-(w0+w1*x)+l*w0)*r)\n",
    "    s1+=((x*(y-(w0+w1*x))+l*w1)*r)\n",
    "    return (s0,s1)"
   ]
  },
  {
   "cell_type": "markdown",
   "id": "numeric-stationery",
   "metadata": {},
   "source": [
    "**regular_train**: training the model(with L2 reguliser) using\n",
    "* initial weights=0.5\n",
    "* learning rate=0.0001\n",
    "* number of steps=1000\n",
    "* batch size = 1\n",
    "* returns the weights and SSE error\n"
   ]
  },
  {
   "cell_type": "code",
   "execution_count": 52,
   "id": "institutional-cylinder",
   "metadata": {},
   "outputs": [],
   "source": [
    "def regular_train(t_x,Y,valid_x,valid_y,l):\n",
    "    w0=0.5\n",
    "    w1=0.5\n",
    "    r=0.0001\n",
    "    step=1000\n",
    "    for i in range(step):\n",
    "        b=np.random.choice(t_x, size=1, replace=False)\n",
    "        y_b=[Y[b[i]] for i in range(len(b))]\n",
    "        new_W=steps_regular(b[0],y_b[0],w0,w1,r,l)\n",
    "        w0+=new_W[0]\n",
    "        w1+=new_W[1]\n",
    "    return error_noPrint(w0,w1,valid_x,valid_y),w0,w1"
   ]
  },
  {
   "cell_type": "markdown",
   "id": "conditional-grade",
   "metadata": {},
   "source": [
    "**k_cross_error**: splits training data in 5 parts, in each round uses one of them as vaidation data and returns the average error and weight of all 5 runs."
   ]
  },
  {
   "cell_type": "code",
   "execution_count": 53,
   "id": "dominant-elizabeth",
   "metadata": {},
   "outputs": [],
   "source": [
    "def k_cross_error(x,Y,l):\n",
    "    random.shuffle(x)\n",
    "    y=[]\n",
    "    t_x=[]\n",
    "    t_y=[]\n",
    "    E=0\n",
    "    W0=0\n",
    "    W1=0\n",
    "    for d in x:\n",
    "        y.append(Y[d])\n",
    "    \n",
    "    for i in range(5):\n",
    "        valid_x=x[int(i*(len(x)/5)):int((i+1)*(len(x)/5))]\n",
    "        valid_y=y[int(i*(len(y)/5)):int((i+1)*(len(y)/5))]\n",
    "        for i in range(len(x)):\n",
    "            if x[i] not in valid_x:\n",
    "                t_x.append(x[i])\n",
    "                t_y.append(y[i])\n",
    "        (e,w0,w1)=regular_train(t_x,Y,valid_x,valid_y,l)\n",
    "        W0+=w0\n",
    "        W1+=w1\n",
    "        E+=e\n",
    "    return E/5,(W0/5,W1/5)\n",
    "            "
   ]
  },
  {
   "cell_type": "markdown",
   "id": "existing-bicycle",
   "metadata": {},
   "source": [
    "running 5-cross fold on training data for diffrent values of $\\lambda$ to find out the best(less in error)"
   ]
  },
  {
   "cell_type": "code",
   "execution_count": 60,
   "id": "helpful-separation",
   "metadata": {},
   "outputs": [
    {
     "name": "stdout",
     "output_type": "stream",
     "text": [
      "0.0001 : (336.8796425899492, (0.554066279953563, 0.4791496200736686))\n",
      "0.001 : (308.64671896109274, (0.570319364341158, 0.42803454618431547))\n",
      "0.01 : (274.3473447066464, (0.5573474175215176, 0.4647670608659228))\n",
      "0.1 : (314.68618227922167, (0.5624028341128491, 0.44571471470684354))\n",
      "1 : (324.80180155204033, (0.6042245231758063, 0.43538453034110347))\n",
      "10 : (335.64829623094204, (1.422526332323051, 0.419337770191035))\n"
     ]
    }
   ],
   "source": [
    "L=[10**-4,10**-3,10**-2,10**-1,1,10]\n",
    "error_each=[]\n",
    "for l in L:\n",
    "    tmp= k_cross_error(train_x[:],Y,l)\n",
    "    error_each.append(tmp[0])\n",
    "    print(l,\":\" , tmp)"
   ]
  },
  {
   "cell_type": "code",
   "execution_count": 61,
   "id": "abstract-minority",
   "metadata": {},
   "outputs": [
    {
     "data": {
      "image/png": "[encoded data removed]",
      "text/plain": [
       "<Figure size 432x288 with 1 Axes>"
      ]
     },
     "metadata": {
      "needs_background": "light"
     },
     "output_type": "display_data"
    }
   ],
   "source": [
    "plt.plot([-4,-3,-2,-1,0,1],error_each,color=\"purple\")\n",
    "plt.show()"
   ]
  },
  {
   "cell_type": "markdown",
   "id": "prostate-glory",
   "metadata": {},
   "source": [
    "* error is high when $\\lambda$ is too small $\\implies$ overfitting\n",
    "* error is high when $\\lambda$ is too big $\\implies$ underfittin\n",
    "* optimal value for $\\lambda$ is $10^{-2}$ $\\implies$ w0 , w1 = 0.5573474175215176, 0.4647670608659228"
   ]
  },
  {
   "cell_type": "code",
   "execution_count": 63,
   "id": "regional-interview",
   "metadata": {},
   "outputs": [
    {
     "name": "stdout",
     "output_type": "stream",
     "text": [
      "True value         Predicted value\n",
      "12.526535023973882 3.810716843582977\n",
      "-2.0813986414954524 6.134552147912592\n",
      "15.93266723784173 6.599319208778514\n",
      "10.709372996895981 9.387921573974051\n",
      "23.238582276459262 13.570825121767356\n",
      "17.74212245686465 27.049069886879114\n",
      "27.664567611896427 27.513836947745038\n",
      "24.267295373888828 35.87964404333165\n",
      "27.2328801969761 36.344411104197576\n",
      "38.74941446907105 38.203479347661265\n",
      "40.032102724504746 43.78068407805234\n",
      "ERROR: 322.3245081187745\n"
     ]
    }
   ],
   "source": [
    "print(\"True value         Predicted value\")\n",
    "error(0.5573474175215176, 0.4647670608659228,test_x,test_y)"
   ]
  },
  {
   "cell_type": "markdown",
   "id": "completed-telescope",
   "metadata": {},
   "source": [
    "### $linear$ $regression$ $with$ $reguliser$\n",
    "* knowing that $W^{*}=(X^TX+\\lambda I)^{-1}X^Tt$ by constructing X and t matrix from training data, and doing the calculations, we will have $W^*$ matrix and therfore $w_0$ and $w_1$"
   ]
  },
  {
   "cell_type": "code",
   "execution_count": 64,
   "id": "automotive-frame",
   "metadata": {},
   "outputs": [
    {
     "name": "stdout",
     "output_type": "stream",
     "text": [
      "[w0 , w1]\n",
      "[2.96490572 0.40779055]\n"
     ]
    }
   ],
   "source": [
    "lbd=np.array([[0.01 ,0],[0,0.01]])\n",
    "X_matrix=[]\n",
    "for x in train_x:\n",
    "    X_matrix.append([1,x])\n",
    "X_matrix_t=[[1 for _ in range(len(train_x))],train_x]\n",
    "a = np.array(X_matrix)\n",
    "b = np.array(X_matrix_t)\n",
    "e=np.array([Y[x] for x in train_x])\n",
    "c=np.matmul(b, a)\n",
    "c=c-lbd\n",
    "c=np.linalg.inv(c)\n",
    "d=np.matmul(c, b)\n",
    "d=np.matmul(d, e)\n",
    "print(\"[w0 , w1]\")\n",
    "print(d)"
   ]
  },
  {
   "cell_type": "code",
   "execution_count": 69,
   "id": "competent-suicide",
   "metadata": {},
   "outputs": [
    {
     "name": "stdout",
     "output_type": "stream",
     "text": [
      "True value         Predicted value\n",
      "12.526535023973882 5.81943957\n",
      "-2.0813986414954524 7.858392319999999\n",
      "15.93266723784173 8.26618287\n",
      "10.709372996895981 10.71292617\n",
      "23.238582276459262 14.383041119999998\n",
      "17.74212245686465 26.20896707\n",
      "27.664567611896427 26.616757619999998\n",
      "24.267295373888828 33.95698752\n",
      "27.2328801969761 34.36477807\n",
      "38.74941446907105 35.99594027\n",
      "40.032102724504746 40.889426869999994\n",
      "ERROR: 253.41813382161794\n"
     ]
    }
   ],
   "source": [
    "print(\"True value         Predicted value\")\n",
    "error(2.96490572,0.40779055,test_x,test_y)"
   ]
  },
  {
   "cell_type": "markdown",
   "id": "accepting-invasion",
   "metadata": {},
   "source": [
    "### $Comparison$"
   ]
  },
  {
   "cell_type": "code",
   "execution_count": 70,
   "id": "pleased-brush",
   "metadata": {},
   "outputs": [
    {
     "data": {
      "image/png": "[encoded data removed]",
      "text/plain": [
       "<Figure size 432x288 with 1 Axes>"
      ]
     },
     "metadata": {
      "needs_background": "light"
     },
     "output_type": "display_data"
    }
   ],
   "source": [
    "plt.scatter(test_x,test_y,color=\"red\", label=\"test data\")\n",
    "plt.plot(test_x,[w00+w11*x for x in test_x],color=\"green\",label=\"LR model\")\n",
    "plt.plot(test_x,[w0+w1*x for x in test_x],color=\"black\",label=\"SGD model\")\n",
    "plt.plot(test_x,[0.5573474175215176+0.4647670608659228*x for x in test_x],color=\"purple\",label=\"5-cross with L2 model\")\n",
    "plt.plot(test_x,[2.96490572+0.40779055*x for x in test_x],color=\"orange\",label=\"LR with L2 model\")\n",
    "plt.legend()\n",
    "plt.show()"
   ]
  }
 ],
 "metadata": {
  "kernelspec": {
   "display_name": "Python 3",
   "language": "python",
   "name": "python3"
  },
  "language_info": {
   "codemirror_mode": {
    "name": "ipython",
    "version": 3
   },
   "file_extension": ".py",
   "mimetype": "text/x-python",
   "name": "python",
   "nbconvert_exporter": "python",
   "pygments_lexer": "ipython3",
   "version": "3.7.4"
  }
 },
 "nbformat": 4,
 "nbformat_minor": 5
}
