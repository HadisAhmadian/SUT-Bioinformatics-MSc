{
 "cells": [
  {
   "cell_type": "code",
   "execution_count": 12,
   "id": "e186e774",
   "metadata": {},
   "outputs": [],
   "source": [
    "import json\n",
    "import time\n",
    "\n",
    "# read persian words file with their phrases and source\n",
    "with open('extracted-phrases.json', encoding=\"utf8\") as f:\n",
    "    data = json.loads(f.read())"
   ]
  },
  {
   "cell_type": "code",
   "execution_count": 2,
   "id": "ed1a9ae0",
   "metadata": {},
   "outputs": [],
   "source": [
    "words = list()\n",
    "for i in data:\n",
    "    word = i['word']\n",
    "    words.append(word)"
   ]
  },
  {
   "cell_type": "code",
   "execution_count": 3,
   "id": "e0163738",
   "metadata": {},
   "outputs": [
    {
     "data": {
      "text/plain": [
       "1195311"
      ]
     },
     "execution_count": 3,
     "metadata": {},
     "output_type": "execute_result"
    }
   ],
   "source": [
    "len(words)"
   ]
  },
  {
   "cell_type": "code",
   "execution_count": 5,
   "id": "f7a84792",
   "metadata": {},
   "outputs": [],
   "source": [
    "with open(\"persian_words.txt\", \"w\", encoding=\"utf8\") as output:\n",
    "    for word in words:\n",
    "        output.write(word + '\\n')"
   ]
  },
  {
   "cell_type": "code",
   "execution_count": 18,
   "id": "bfe33b15",
   "metadata": {},
   "outputs": [
    {
     "name": "stdout",
     "output_type": "stream",
     "text": [
      "yes\n",
      "time: 0.0010004043579101562\n"
     ]
    }
   ],
   "source": [
    "test_word = 'سلام'\n",
    "t0 = time.time()\n",
    "if test_word in words:\n",
    "    print('yes')\n",
    "else:\n",
    "    print('no')\n",
    "t1 = time.time()\n",
    "print('time:', t1-t0)"
   ]
  },
  {
   "cell_type": "code",
   "execution_count": null,
   "id": "2daefc9a",
   "metadata": {},
   "outputs": [],
   "source": []
  }
 ],
 "metadata": {
  "kernelspec": {
   "display_name": "Python 3 (ipykernel)",
   "language": "python",
   "name": "python3"
  },
  "language_info": {
   "codemirror_mode": {
    "name": "ipython",
    "version": 3
   },
   "file_extension": ".py",
   "mimetype": "text/x-python",
   "name": "python",
   "nbconvert_exporter": "python",
   "pygments_lexer": "ipython3",
   "version": "3.9.7"
  }
 },
 "nbformat": 4,
 "nbformat_minor": 5
}
