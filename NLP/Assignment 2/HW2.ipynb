{
 "cells": [
  {
   "cell_type": "code",
   "execution_count": 1,
   "metadata": {},
   "outputs": [
    {
     "ename": "ModuleNotFoundError",
     "evalue": "No module named 'hazm'",
     "output_type": "error",
     "traceback": [
      "\u001b[1;31m---------------------------------------------------------------------------\u001b[0m",
      "\u001b[1;31mModuleNotFoundError\u001b[0m                       Traceback (most recent call last)",
      "\u001b[1;32m~\\AppData\\Local\\Temp/ipykernel_2716/383452867.py\u001b[0m in \u001b[0;36m<module>\u001b[1;34m\u001b[0m\n\u001b[0;32m      1\u001b[0m \u001b[1;32mfrom\u001b[0m \u001b[0m__future__\u001b[0m \u001b[1;32mimport\u001b[0m \u001b[0municode_literals\u001b[0m\u001b[1;33m\u001b[0m\u001b[1;33m\u001b[0m\u001b[0m\n\u001b[1;32m----> 2\u001b[1;33m \u001b[1;32mfrom\u001b[0m \u001b[0mhazm\u001b[0m \u001b[1;32mimport\u001b[0m \u001b[1;33m*\u001b[0m\u001b[1;33m\u001b[0m\u001b[1;33m\u001b[0m\u001b[0m\n\u001b[0m\u001b[0;32m      3\u001b[0m \u001b[1;33m\u001b[0m\u001b[0m\n\u001b[0;32m      4\u001b[0m \u001b[1;31m# Should we bring these part somewhere else? so that importing our DetectIlligalWords Class wouldn't have any problems.\u001b[0m\u001b[1;33m\u001b[0m\u001b[1;33m\u001b[0m\u001b[0m\n",
      "\u001b[1;31mModuleNotFoundError\u001b[0m: No module named 'hazm'"
     ]
    }
   ],
   "source": [
    "from __future__ import unicode_literals\n",
    "from hazm import *\n",
    "\n",
    "# Should we bring these part somewhere else? so that importing our DetectIlligalWords Class wouldn't have any problems."
   ]
  },
  {
   "cell_type": "code",
   "execution_count": null,
   "metadata": {},
   "outputs": [],
   "source": [
    "class DetectIlligalWords:\n",
    "  def __init__(self, mode = 1): # should work on thin whether we want different modes or not\n",
    "    self.mode = mode\n",
    "\n",
    "  def preprocess(self, input):\n",
    "    # normalize the input text\n",
    "    normalizer = Normalizer()\n",
    "    text = normalizer.normalize(input)\n",
    "\n",
    "    #TODO: convert emojis\n",
    "    text = emoji_converter(text)\n",
    "\n",
    "    # tokenize the normalized text\n",
    "    tokens = word_tokenize(text)\n",
    "\n",
    "    return tokens\n",
    "\n",
    "  def detectIlligalWords(self, tokens, illegal_words):\n",
    "    illegal_words = {}\n",
    "    # detect functions append illegal words to the dictionary above and returns it.\n",
    "    # please remove the token related to illegal word after detecting it.\n",
    "    #TODO: removing meaningful words. (take a copy of tokens)\n",
    "    \n",
    "    #TODO: detect simple case: تفنگ، فیلترشکن\n",
    "    #TODO: detect words containing not related characters: ت۹نگ، تف)ن$گ\n",
    "    #TODO: ...\n",
    "    pass\n",
    "\n",
    "  def process(self, tokens, illegal_words):\n",
    "    self.detectIlligalWords(tokens, illegal_words)\n",
    "    \n",
    "    # lemmatization and detection\n",
    "    lemmatizer = Lemmatizer()\n",
    "    all_tokens_lemma = [lemmatizer.lemmatize(t) for t in tokens]\n",
    "    self.detectIlligalWords(all_tokens_lemma, illegal_words)\n",
    "\n",
    "  def run(self, input: str, illegal_words: list):\n",
    "    text = self.preprocess(input)\n",
    "    self.process(tokens, illegal_words)"
   ]
  },
  {
   "cell_type": "code",
   "execution_count": null,
   "metadata": {},
   "outputs": [],
   "source": []
  }
 ],
 "metadata": {
  "kernelspec": {
   "display_name": "Python 3 (ipykernel)",
   "language": "python",
   "name": "python3"
  },
  "language_info": {
   "codemirror_mode": {
    "name": "ipython",
    "version": 3
   },
   "file_extension": ".py",
   "mimetype": "text/x-python",
   "name": "python",
   "nbconvert_exporter": "python",
   "pygments_lexer": "ipython3",
   "version": "3.9.7"
  },
  "vscode": {
   "interpreter": {
    "hash": "dfeeb5e9e4b434e06e22bb376e8f25d9940e742843c4eefc8b32eb9c6ac56656"
   }
  }
 },
 "nbformat": 4,
 "nbformat_minor": 2
}
