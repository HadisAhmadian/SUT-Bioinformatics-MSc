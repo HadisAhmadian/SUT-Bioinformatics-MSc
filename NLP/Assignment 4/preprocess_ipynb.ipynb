{
  "nbformat": 4,
  "nbformat_minor": 0,
  "metadata": {
    "colab": {
      "provenance": []
    },
    "kernelspec": {
      "name": "python3",
      "display_name": "Python 3"
    },
    "language_info": {
      "name": "python"
    }
  },
  "cells": [
    {
      "cell_type": "code",
      "execution_count": null,
      "metadata": {
        "collapsed": true,
        "id": "YuR7SRM0iBie"
      },
      "outputs": [],
      "source": [
        "#@title\n",
        "import pandas as pd\n",
        "import numpy as np\n",
        "import matplotlib.pyplot as plt\n",
        "%matplotlib inline\n",
        "from matplotlib.pylab import rcParams\n",
        "rcParams['figure.figsize'] = 15, 6"
      ]
    },
    {
      "cell_type": "markdown",
      "metadata": {
        "id": "bBrSJIjyiBij"
      },
      "source": [
        "### List the files in the train directory\n",
        "All the files are located in the train directory."
      ]
    },
    {
      "cell_type": "code",
      "execution_count": null,
      "metadata": {
        "id": "2bp9mWH2iBik",
        "outputId": "2340687e-7206-43cc-9fbe-f0da9b20e58d"
      },
      "outputs": [
        {
          "data": {
            "text/plain": [
              "202"
            ]
          },
          "execution_count": 38,
          "metadata": {},
          "output_type": "execute_result"
        }
      ],
      "source": [
        "#@title\n",
        "import os\n",
        "files = os.listdir(\"/Users/sinaabdous/SinaDocuments/UniStudies/nlp/exercise/4/n2c2/part1\")\n",
        "len(files)"
      ]
    },
    {
      "cell_type": "code",
      "execution_count": null,
      "metadata": {
        "collapsed": true,
        "id": "nB0YMV4JiBim"
      },
      "outputs": [],
      "source": [
        "#@title\n",
        "import xmltodict\n",
        "with open(\"/Users/sinaabdous/SinaDocuments/UniStudies/nlp/exercise/4/n2c2/part1/\" + files[0], \"r\") as fd:\n",
        "    doc = xmltodict.parse(fd.read())"
      ]
    },
    {
      "cell_type": "markdown",
      "metadata": {
        "id": "Sq2A2lAPiBio"
      },
      "source": [
        "### Test the XML Parse Functionality\n",
        "The text fields and tags are needed to be extracted."
      ]
    },
    {
      "cell_type": "code",
      "execution_count": null,
      "metadata": {
        "id": "l0qHVS3piBiq",
        "outputId": "bbb44584-a418-4a30-df04-a38a16c04948"
      },
      "outputs": [
        {
          "data": {
            "text/plain": [
              "'met'"
            ]
          },
          "execution_count": 40,
          "metadata": {},
          "output_type": "execute_result"
        }
      ],
      "source": [
        "#@title\n",
        "doc[\"PatientMatching\"][\"TAGS\"]['ABDOMINAL']['@met']"
      ]
    },
    {
      "cell_type": "code",
      "execution_count": null,
      "metadata": {
        "id": "2k267CXsiBis",
        "outputId": "c2444ccc-2e68-41b4-d3fe-29340f75143b"
      },
      "outputs": [
        {
          "data": {
            "text/plain": [
              "'Record date: 2068-02-04\\n\\nASSOCIATED ARTHRITIS SPECIALISTS CENTER            Quijano, Baylee\\n                                              2-03-68\\n \\n \\n \\nIdentification:  Patient is a 53-year old markedly obese female \\ncomplaining of bilateral weight knee pain.  She denies any morning \\nstiffness, any jelling phenomena.  She has had no trauma or effusions in \\nthe knee.  She had noted on x-ray many years ago that she had had a \\nchipped bone in the right knee and some mild osteoarthritis but it has \\nbothered her only intermittently until this year.  Last year she did go \\nto Briggs Stratton and dropped to 270 lb. at which point her knees felt \\nbetter, but currently she is back up to over 300 lb. and at her height \\nof 5 ft. 1 in., she is in pain.  She has not visited a physician.  She \\nhas no internist who currently checks on her general medical health, but \\nshe does report that the occasional Advil she takes does produce some \\ndyspepsia.  She has no history of gout, no history of psoriasis, no \\nhistory of pseudogout or any rash, alopecia, headaches, shoulder or hip \\ndiscomfort.  She does not complain of back pain but does have difficult \\nwalking 50 yards because of the knee pain.\\n \\nAllergies:  None.\\n \\nMedications:  Occasional Advil.\\n \\nPast Surgical History:  Cholecystectomy 2064.  Two c-sections.\\n \\nPast Medical History:  Negative for hypertension, diabetes, cancer, \\nstroke, tuberculosis, hepatitis, asthma, heart disease.\\n \\nFamily History:  Mother is alive and well with no medical problems.  \\nFather is alive and well with no medical problems.  She has 12 siblings.  \\nOne sibling died of pneumonia at a young age.  Another sibling has \\nasthma.\\n \\nPhysical Examination;  She is a markedly obese female, no apparent \\ndistress.  She is 5 ft. 1 in. and weighs 304 lb.  Examination of joints:  \\nNo evidence of active synovitis or pain in her DIPs, PIPs, MCPs, wrists, \\nelbows, shoulders.  Bilateral hips are limited in internal external \\nrotation but not because of pain-- due to obesity, bilateral knees have \\ncrepitus, but no warmth or swelling.  There is some pain at extremes of \\nflexion on the left of 110 degrees.  Ankles and toes within normal \\nlimits.  Please note above in the clinical history that she does not \\ncomplain of back pain but does have difficult walking 50 yards because \\nof the knee pain.  The blood pressure could not be taken secondary to \\nthe fact that the large blood pressure \\ncuff did not fit around her right arm. \\n \\nImpression:  \\n \\n1.   Probable bilateral osteoarthritis.  I will obtain plain films and \\n     have prescribed Disalcid 3 gm. a day p.r.n.   GI and renal side \\n     effects explained.\\n                                              2-03-68\\n \\n \\n \\n2.   We discussed seriously the need for weight loss.  She will be \\n     referred to the nutritionist to get on a weight loss program.  She \\n     will seriously entertain a weight loss program.  Patient will \\n     return in a few months unless she has any further problems.\\n \\n3.   I have referred her to an Internal Medicine doctor for health maintenance since \\n     she does not have one as yet.\\n \\n \\n \\n \\n_________________________\\nAda R. Kruger, M.D.\\n \\nFK:SK:3696\\nDD:2-03-68\\nDT:2-05-68\\nDV:2-03-68\\n\\n\\n\\n\\n****************************************************************************************************\\nRecord date: 2074-01-22\\n\\n                     AASC EMERGENCY DEPT VISIT\\n \\nQUIJANO,BAYLEE   853-62-51-4                    VISIT DATE: 01/22/74\\nHISTORY OF PRESENTING COMPLAINT:  The patient is a very pleasant 50 \\nyear old woman with a history of hypertension, on atenolol, \\nhydrochlorothiazide, triamterene who presents to the Emergency \\nDepartment complaining of subjective fevers, myalgias and cough. \\nREVIEW OF SYSTEMS:  Negative for headache, neck pain, chest pain, \\nshortness of breath, dyspnea on exertion, abdominal pain, fevers or \\nchills. \\nPHYSICAL EXAMINATION:  Afebrile.  Vital signs are normal. \\nNormocephalic, atraumatic.  Neck:  Supple.  JVD to approximately 7 \\ncm.  Chest has bibasilar faint crackles that do not clear with \\ncough.  Abdomen is soft, obese.  Heart:  Regular rate and rhythm. \\nExtremities:  1+ non-pitting edema versus obesity. \\nLABORATORY EVALUATION:  Chest x-ray with bilateral inferior lobe \\ninfiltrates with cephalization consistent with mild to moderate \\nCHF, no effusions.  EKG with LVH, no ST elevations, T wave \\ninversions or evidence of acute ischemia. \\nASSESSMENT/PLAN:  New onset CHF, setting in a probable URI. \\nDISPOSITION (including condition upon discharge):  I will admit to \\nMedical Service for workup of CHF, rule out MI, echocardiogram. \\nThe patient is admitted in good condition. \\n___________________________________                    ZW011/0863 \\nDAVID ZHU, M.D.  DZ0                                D:01/22/74 \\n                                                       T:01/22/74 \\nDictated by:  DAVID ZHU, M.D.  DZ0 \\n ******** Not reviewed by Attending Physician ********\\n\\n\\n\\n\\n****************************************************************************************************\\nRecord date: 2075-01-15\\n\\n                     AASC EMERGENCY DEPT VISIT\\n \\nQUIJANO,BAYLEE   853-62-51-4                    VISIT DATE: 01/15/75\\nThe patient was worked up in the emergency department by myself and \\nthe resident, and I concur with her work up and evaluation in the \\nemergency department. \\nPRESENTING COMPLAINT:    Chest pain, shortness of breath, \\nproductive cough. \\nHISTORY OF PRESENTING COMPLAINT:  This patient is a 60-year-old \\nfemale that presents to the emergency department at Associated Arthritis with complaints of chest pain, shortness of breath \\nand a cough productive of white sputum.  The patient denies fever \\nor chills.  She denies any other acute complaints. \\nPAST MEDICAL HISTORY:  Morbid obesity, congestive heart failure, \\nhypertension, rheumatoid arthritis. \\nMEDICATIONS:  Zestril, a water pill most likely Lasix, Motrin and \\nTylenol. \\nALLERGIES:  No known allergies. \\nPHYSICAL EXAMINATION:  VITAL SIGNS:  Temperature 99, pulse 85, \\nrespiratory rate 16, blood pressure 214/117.  Oxygen saturation 92% \\non two liters.  HEENT:  Normocephalic, atraumatic.  Pupils equal, \\nround, reactive.  Positive AV nicking.  NECK:  Positive for jugular \\nvenous distension.  CHEST:  Rales audible bilaterally.  HEART: \\nNormal S1/S2.  No S3/S4.  No murmur.  ABDOMEN:  Soft, nontender. \\nEXTREMITIES:  Positive for 2-3+ pitting edema.  NEURO:  She was \\nawake, alert, and able to follow commands. \\nLABORATORY EVALUATION:  CK 84.  White count 10, hemoglobin 12, \\nhematocrit 42, platelet count 329.  Urinalysis noted 1+ blood in \\nher urine, however, overall, her urinalysis was negative.  Chest \\nx-ray which noted cardiomegaly with findings consistent with \\ncongestive heart failure.  EKG noted no acute changes. \\nTHERAPY RENDERED/COURSE IN ED:  The patient was given 40 mg of \\nLasix IV initially.  For her chest pain, she was given sublingual \\nnitroglycerin.  She was also given one aspirin.  She had a \\nnitroglycerin patch placed in the emergency department. \\nFINAL DIAGNOSIS: \\n1. Congestive failure. \\n2. Chest pain, no evidence of an acute myocardial infarction. \\nDISPOSITION (including condition upon discharge):  The patient will \\nbe admitted to the medicine service for further work up and \\nevaluation.  The patient is in stable condition. \\n___________________________________                    CY313/62627 \\nO. DE OTIS, M.D.       DO36                       D:01/18/75 \\n                                                       T:01/18/75 \\nDictated by:  O. DE OTIS, M.D.       DO36 \\n ******** Not reviewed by Attending Physician ********\\n\\n\\n\\n\\n****************************************************************************************************\\nRecord date: 2076-07-20\\n\\n                                                       Patient Name: QUIJANO,BAYLEE [ MRN: 85362514MARY ]                                                         Date of Visit: 07/20/2076Chief Complaint\\t\\n\\nMs. Quijano is a 61 yo morbidly obese woman with CAD, OA, and CHF who is in for follow-up of these problems.  \\n\\n\\n\\nHistory of Present Illness\\t\\n\\nShe is working every day and feels much better than she did last year.  She has had multiple admissions in the past for CHF and for ischemia.  Recent echo shows septal and apical hypokinesis.  \\n\\n\\n\\nShe has had no chest pain.  She does not complain of SOB.  She does cough, but this is because of the air conditioning and postnasal drip, she believes.  \\n\\n\\n\\nShe also complains of severe knee pain, with the right worse than the left.  She can walk a little, but standing is very painful.  \\n\\n\\n\\nIn addition, she complains of some food intolerance.  She has a hard time eating breakfast because she gets abdominal cramps.  After eating orange juice, she gets terrible cramping and has to run to the bathroom to have a bowel movement.  She has changed her milk to lactaid, which she says helps.  Certain types of salad dressing also cause this reaction.  \\n\\n\\n\\nProblems\\t  \\n\\nMORBID OBESITY\\t      \\n\\nKNEE OA\\t      \\n\\nANSERINE BURSITIS, BILAT\\t      \\n\\nS/P 2 C-SECTIONS\\t      \\n\\nHTN\\t      \\n\\nCAD\\t      \\n\\nCHF\\t      \\n\\nASTHMA\\t      \\n\\n\\n\\nMedications\\t  \\n\\nVENTOLIN\\t 2PUFFS INH QID\\n\\nAZMACORT\\t 4PUFFS INH BID\\n\\nECASA\\t 1  PO QD\\n\\nATROVENT\\t 2PUFFS INH QID\\n\\nTNG 0.4 MG\\t    SL \\n\\nSEREVENT\\t 2PUFFS INH BID\\n\\nFLOVENT\\t 220MCG INH BID\\n\\nCOZAAR\\t 100MG PO QD\\n\\nLOPRESSOR\\t 25MG PO TID\\n\\nLASIX\\t 60MG PO BID\\n\\nZANTAC\\t 150MG PO BID\\n\\nNORVASC\\t 10MG PO QD\\n\\nISOSORBIDE DINITRATE\\t 20MG 1 Tablet(s) PO TID\\n\\n\\n\\nAllergies\\t  \\n\\nLISINOPRIL\\t COUGH\\n\\n\\n\\nSocial History\\t\\n\\nEmployment:  Works in commercial diving.  \\n\\nMarital/Relationship:  She is married.  Her husband is retired. She has 3 children, and 3 grandchildren, and 2 great grand children!  Recently went down to Mississippi to celebrate her father\\'s 81st birthday.  They drove down in a van because she is afraid of flying.  \\n\\n\\n\\n\\n\\nFamily History\\t\\n\\nFather:  Alive, and very healthy.  \\n\\nMother:  Mother died at age 80 in Apr, 2075, of MI.  \\n\\nSiblings:  She has 12 siblings--she is the oldest.  None of them have weight problem.  Her two daughters have obesity.  Her grandson is also overweight at 12 years old.  \\n\\n\\n\\nHabits\\t\\n\\nTobacco:  Never.  \\n\\nEtOH:  None\\n\\nDrugs:  None\\n\\nSeatbelts:  Yes\\n\\nDomestic violence: None\\n\\nSleep:  She tends to sleep a little less than before.  She is tired during the day.  No daytime somnolence.  She wakes herself up with snoring.  \\n\\nExercise:  None.  \\n\\nEmotional history:  No depression.  \\n\\nDiet:  She is not really on a regimen.  She admits to lots of snacking.  \\n\\n\\n\\nReview of Systems\\t\\n\\nNo headaches, lightheadedness, vision changes.  No chest pain, SOB, DOE, palpitations.  No  abdominal pain, nausea, vomiting, constipation, diarrhea.  No change in bowel habits, BPBPR, melena. No dysuria, dypareunia.  No numbness, tingling, weakness, myalgias. No fever, chills, change in appetite, weight loss. Remainder of systems reviewed and negative.\\n\\n\\n\\n\\n\\nVital Signs\\t  \\n\\nBlood Pressure:\\t 178/80   \\n\\nPulse:\\t 88   \\n\\nHeight:\\t 62   Inches\\n\\nWeight:\\t 332   Pounds\\n\\n\\n\\nPhysical Exam\\t\\n\\nGeneral Appearance: Morbidly obese, very pleasant woman in no acute distress.  HEENT:  Normocephalic, atraumatic.  PERRLA, EOMI.  Neck:  No thyromegaly.  No JVD, carotid bruits, lymphadenopathy.  Neck is supple with full ROM.  Chest:  Clear to P and A.  No wheezes, rales, rhonchi.  Cardiac:  Normal S1, S2, no murmurs, rubs, or gallops. Breasts:  Symmetric, no masses, tenderness or nipple discharge.  Abdomen:  Normal bowel sounds, no HSM or tenderness.  Extremities: Crepitance in both knees.  4+ pretibial edema.   \\n\\n\\n\\nAssessment\\t\\n\\n1.  Hypertension:\\n\\n\\n\\nIncreased lasix to 80 mg po bid.  Increased lopressor to 50 mg po bid (she hadn\\'t been taking this).  RTC one month to see me for f/u.  \\n\\n\\n\\n2.  Hypercholesterolemia:\\n\\n\\n\\nFor some reason, she had stopped taking her zocor.  I restarted her on lipitor 20 mg po qd, given her very high dLDL on 5/26/76--171.  Checked AST today.  She will come in tomorrow for fasting cholesterol levels.  \\n\\n\\n\\n3.  Obesity:\\n\\n\\n\\nShe is making no progress in this area, and in fact is getting worse.  Her daughter had the gastric bypass operation and has lost 100 lbs.  She is receptive to the idea of going for a consultation.  She had gone to Weight Clinic before for the liquid diet, but she could no longer afford to go.  \\n\\n\\n\\nPlan:  \\n\\nReferral to Dr. Bobby Davison.\\n\\nChecked TSH\\n\\n\\n\\n4.  Polyuria, polydypsia:\\n\\n\\n\\nShe has had one random BS of 170, and another of 136.  We will have her come back for a FBS tomorrow.  Also checked Cre, K.  \\n\\n\\n\\n\\n\\n\\n\\n\\n\\n______________________________                              \\n\\n\\n\\nXanthopoulos, Kelly Willie, M.D.\\n\\n\\n\\n****************************************************************************************************\\nRecord date: 2077-02-05\\n\\n                     AASC EMERGENCY DEPT VISIT\\n\\n \\n\\nQUIJANO,BAYLEE   853-62-51-4\\n\\nMs. Quijano is a 62-year-old female who was seen by the resident and \\n\\nseen and examined by me.\\n\\nPRESENTING COMPLAINT:  Nausea, vomiting and diarrhea.\\n\\nHISTORY OF PRESENTING COMPLAINT:  Patient is a 62-year-old female \\n\\nwith history of asthma and CHF with coronary artery disease, \\n\\npresents now with multiple episodes of vomiting and diarrhea and \\n\\n\"feeling sick\".  Has no history of fevers.  Mildly tachycardic with \\n\\na pulse rate of 100.\\n\\nREVIEW OF SYSTEMS:  Stated that recently was feeling sick.  Had a \\n\\nchest x-ray recently and was negative.  Treated with Amoxicillin, \\n\\nbut still continued to have some mild cough and wheezes.  That \\n\\nbrought her to the Emergency Department, but no complaints of any \\n\\nnew shortness of breath, but has this persistent cough that has not \\n\\ngone away despite being treated with antibiotics.  Denies fever or \\n\\nchills.  Denies shortness of breath.  Denies dyspnea on exertion.  \\n\\nDenies PND.   Review of systems otherwise unremarkable.\\n\\nPAST MEDICAL HISTORY:  History of hypertension, CHF, asthma, status \\n\\npost cholecystectomy.  History of coronary artery disease.  Status \\n\\npost C-section times two.  \\n\\nMEDICATIONS:  On multiple medicines including Ventolin, Lasix, \\n\\nLopressor and Zantac as well as Lipitor.\\n\\nPHYSICAL EXAMINATION:  HEENT:  Normal.  NECK:  Supple.  LUNGS:  \\n\\nSome mild wheezes bilaterally.  No rales however.  No respiratory \\n\\ndistress.  Some course rhonchi heard throughout lung fields.  \\n\\nCARDIAC EXAM:  Regular rate and rhythm.  No murmurs.  ABDOMEN:  \\n\\nSoft, nontender without any masses.  MUSCULOSKELETAL:  Shows trace \\n\\nedema greatest in the lower extremities, but good pulses, normal.  \\n\\nCapillary refill and neurological is intact.\\n\\nLABORATORY EVALUATION:  Full laboratory studies were done including \\n\\nchest x-ray.  EKG showed sinus rhythm with T-wave inversion in A, V \\n\\nand L.  This is not new based on old cardiograms.  Chest x-ray \\n\\nshows some cardiomegaly and a fluffy chest x-ray indicating CHF.  \\n\\nElectrolytes, BUN and creatinine normal.  Hematocrit of 45 and a \\n\\nnormal white count.   \\n\\nTHERAPY RENDERED/COURSE IN ED:  Initially systolic blood pressure \\n\\nwas over 200 and diastolic over 91 and patient also received some \\n\\nDiltiazem for blood pressure control.  \\n\\nAssessment:  This is a 62-year-old woman who has vomiting, \\n\\ndiarrhea, and \"feeling sick\" and she has a chronic cough despite \\n\\nrecent treatment with antibiotics, but no shortness of breath, now \\n\\nfound to be in CHF on chest x-ray.  Patient has been diuresed.  PCP \\n\\nis aware.  She is going to be admitted. \\n\\nCONSULTATIONS (including PCP):  Primary care physician.\\n\\nFINAL DIAGNOSIS:  Cough with congestive heart failure.\\n\\nDISPOSITION (including condition upon discharge):  The patient was \\n\\nadmitted to the hospital in stable condition.\\n\\n___________________________________                    UZ272/3146\\n\\nFRANK ISON, M.D.       FI65                           D:02/05/77 \\n\\n                                                       T:02/05/77 \\n\\nDictated by:  FRANK ISON, M.D.       FI65 \\n\\n ******** Not reviewed by Attending Physician ********\\n\\n\\n\\n\\n\\n****************************************************************************************************'"
            ]
          },
          "execution_count": 41,
          "metadata": {},
          "output_type": "execute_result"
        }
      ],
      "source": [
        "#@title\n",
        "doc['PatientMatching']['TEXT']"
      ]
    },
    {
      "cell_type": "markdown",
      "metadata": {
        "id": "r_YIhjekiBit"
      },
      "source": [
        "### Create a Pandas Dataframe from the Files\n",
        "The dataframe contains all the content from all the files. Each row is identified by the file name some we can refer it back later."
      ]
    },
    {
      "cell_type": "code",
      "execution_count": null,
      "metadata": {
        "collapsed": true,
        "id": "Rpc_uH6qiBiu"
      },
      "outputs": [],
      "source": [
        "#@title\n",
        "record_files = []\n",
        "record_text = []\n",
        "tags2lists = {}"
      ]
    },
    {
      "cell_type": "code",
      "execution_count": null,
      "metadata": {
        "id": "dtCPLcrMiBiv",
        "outputId": "25f17277-e5ce-4c45-b655-4f9bc5bf0551"
      },
      "outputs": [
        {
          "data": {
            "text/plain": [
              "13"
            ]
          },
          "execution_count": 43,
          "metadata": {},
          "output_type": "execute_result"
        }
      ],
      "source": [
        "#@title\n",
        "tags = ['ABDOMINAL', 'ADVANCED-CAD', 'ALCOHOL-ABUSE', 'ASP-FOR-MI', 'CREATININE', \\\n",
        "        'DIETSUPP-2MOS', 'DRUG-ABUSE', 'ENGLISH', 'HBA1C', 'KETO-1YR',\\\n",
        "        'MAJOR-DIABETES', 'MAKES-DECISIONS', 'MI-6MOS']\n",
        "len(tags)"
      ]
    },
    {
      "cell_type": "code",
      "execution_count": null,
      "metadata": {
        "collapsed": true,
        "id": "jzwi6IOWiBiw"
      },
      "outputs": [],
      "source": [
        "#@title\n",
        "for file in files:\n",
        "    with open(\"/Users/sinaabdous/SinaDocuments/UniStudies/nlp/exercise/4/n2c2/part1//\" + file, \"r\") as fd:\n",
        "        doc = xmltodict.parse(fd.read())\n",
        "        record_files.append(file)\n",
        "        record_text.append(doc['PatientMatching']['TEXT'])\n",
        "        for tag in tags:\n",
        "            alist = []\n",
        "            if tag in tags2lists.keys():\n",
        "                alist = tags2lists[tag]\n",
        "            else:\n",
        "                tags2lists[tag] = alist\n",
        "\n",
        "            alist.append(doc[\"PatientMatching\"][\"TAGS\"][tag]['@met'])"
      ]
    },
    {
      "cell_type": "code",
      "execution_count": null,
      "metadata": {
        "id": "Gnl-3ZgHiBix",
        "outputId": "653b62d3-16b9-4726-f59c-b42b7b5b683d"
      },
      "outputs": [
        {
          "data": {
            "text/plain": [
              "202"
            ]
          },
          "execution_count": 45,
          "metadata": {},
          "output_type": "execute_result"
        }
      ],
      "source": [
        "#@title\n",
        "len(tags2lists['MI-6MOS'])"
      ]
    },
    {
      "cell_type": "code",
      "execution_count": null,
      "metadata": {
        "id": "kOLCttNKiBiy",
        "outputId": "a7f9da7f-42ea-4f1a-9691-ad55be52e04a"
      },
      "outputs": [
        {
          "data": {
            "text/plain": [
              "202"
            ]
          },
          "execution_count": 46,
          "metadata": {},
          "output_type": "execute_result"
        }
      ],
      "source": [
        "#@title\n",
        "len(record_text)"
      ]
    },
    {
      "cell_type": "code",
      "execution_count": null,
      "metadata": {
        "collapsed": true,
        "id": "F5XGHewyiBi0"
      },
      "outputs": [],
      "source": [
        "#@title\n",
        "tags2lists['record_file'] = record_files\n",
        "tags2lists['record_text'] = record_text\n",
        "df = pd.DataFrame(tags2lists)"
      ]
    },
    {
      "cell_type": "code",
      "execution_count": null,
      "metadata": {
        "id": "duh7msCViBi2",
        "outputId": "52838267-4a6f-4ad2-8e5f-6681fe772330"
      },
      "outputs": [
        {
          "data": {
            "text/html": [
              "<div>\n",
              "<style scoped>\n",
              "    .dataframe tbody tr th:only-of-type {\n",
              "        vertical-align: middle;\n",
              "    }\n",
              "\n",
              "    .dataframe tbody tr th {\n",
              "        vertical-align: top;\n",
              "    }\n",
              "\n",
              "    .dataframe thead th {\n",
              "        text-align: right;\n",
              "    }\n",
              "</style>\n",
              "<table border=\"1\" class=\"dataframe\">\n",
              "  <thead>\n",
              "    <tr style=\"text-align: right;\">\n",
              "      <th></th>\n",
              "      <th>ABDOMINAL</th>\n",
              "      <th>ADVANCED-CAD</th>\n",
              "      <th>ALCOHOL-ABUSE</th>\n",
              "      <th>ASP-FOR-MI</th>\n",
              "      <th>CREATININE</th>\n",
              "      <th>DIETSUPP-2MOS</th>\n",
              "      <th>DRUG-ABUSE</th>\n",
              "      <th>ENGLISH</th>\n",
              "      <th>HBA1C</th>\n",
              "      <th>KETO-1YR</th>\n",
              "      <th>MAJOR-DIABETES</th>\n",
              "      <th>MAKES-DECISIONS</th>\n",
              "      <th>MI-6MOS</th>\n",
              "      <th>record_file</th>\n",
              "      <th>record_text</th>\n",
              "    </tr>\n",
              "  </thead>\n",
              "  <tbody>\n",
              "    <tr>\n",
              "      <th>0</th>\n",
              "      <td>met</td>\n",
              "      <td>met</td>\n",
              "      <td>not met</td>\n",
              "      <td>met</td>\n",
              "      <td>not met</td>\n",
              "      <td>not met</td>\n",
              "      <td>not met</td>\n",
              "      <td>met</td>\n",
              "      <td>not met</td>\n",
              "      <td>not met</td>\n",
              "      <td>not met</td>\n",
              "      <td>met</td>\n",
              "      <td>not met</td>\n",
              "      <td>162.xml</td>\n",
              "      <td>Record date: 2068-02-04\\n\\nASSOCIATED ARTHRITI...</td>\n",
              "    </tr>\n",
              "    <tr>\n",
              "      <th>1</th>\n",
              "      <td>met</td>\n",
              "      <td>not met</td>\n",
              "      <td>met</td>\n",
              "      <td>not met</td>\n",
              "      <td>not met</td>\n",
              "      <td>met</td>\n",
              "      <td>not met</td>\n",
              "      <td>met</td>\n",
              "      <td>not met</td>\n",
              "      <td>not met</td>\n",
              "      <td>not met</td>\n",
              "      <td>met</td>\n",
              "      <td>not met</td>\n",
              "      <td>176.xml</td>\n",
              "      <td>Record date: 2085-04-22\\n\\n \\nThis patient wan...</td>\n",
              "    </tr>\n",
              "    <tr>\n",
              "      <th>2</th>\n",
              "      <td>not met</td>\n",
              "      <td>met</td>\n",
              "      <td>not met</td>\n",
              "      <td>met</td>\n",
              "      <td>met</td>\n",
              "      <td>met</td>\n",
              "      <td>not met</td>\n",
              "      <td>met</td>\n",
              "      <td>met</td>\n",
              "      <td>not met</td>\n",
              "      <td>met</td>\n",
              "      <td>met</td>\n",
              "      <td>not met</td>\n",
              "      <td>189.xml</td>\n",
              "      <td>Record date: 2090-07-07\\n\\nWillow Gardens Care...</td>\n",
              "    </tr>\n",
              "    <tr>\n",
              "      <th>3</th>\n",
              "      <td>not met</td>\n",
              "      <td>met</td>\n",
              "      <td>not met</td>\n",
              "      <td>met</td>\n",
              "      <td>not met</td>\n",
              "      <td>met</td>\n",
              "      <td>not met</td>\n",
              "      <td>not met</td>\n",
              "      <td>met</td>\n",
              "      <td>not met</td>\n",
              "      <td>not met</td>\n",
              "      <td>met</td>\n",
              "      <td>met</td>\n",
              "      <td>214.xml</td>\n",
              "      <td>Record date: 2096-07-15\\n\\n\\n\\nResults01/31/20...</td>\n",
              "    </tr>\n",
              "    <tr>\n",
              "      <th>4</th>\n",
              "      <td>met</td>\n",
              "      <td>not met</td>\n",
              "      <td>not met</td>\n",
              "      <td>met</td>\n",
              "      <td>not met</td>\n",
              "      <td>met</td>\n",
              "      <td>not met</td>\n",
              "      <td>met</td>\n",
              "      <td>not met</td>\n",
              "      <td>not met</td>\n",
              "      <td>met</td>\n",
              "      <td>met</td>\n",
              "      <td>not met</td>\n",
              "      <td>200.xml</td>\n",
              "      <td>Record date: 2170-02-17\\n\\n \\n\\nReason for Vis...</td>\n",
              "    </tr>\n",
              "  </tbody>\n",
              "</table>\n",
              "</div>"
            ],
            "text/plain": [
              "  ABDOMINAL ADVANCED-CAD ALCOHOL-ABUSE ASP-FOR-MI CREATININE DIETSUPP-2MOS  \\\n",
              "0       met          met       not met        met    not met       not met   \n",
              "1       met      not met           met    not met    not met           met   \n",
              "2   not met          met       not met        met        met           met   \n",
              "3   not met          met       not met        met    not met           met   \n",
              "4       met      not met       not met        met    not met           met   \n",
              "\n",
              "  DRUG-ABUSE  ENGLISH    HBA1C KETO-1YR MAJOR-DIABETES MAKES-DECISIONS  \\\n",
              "0    not met      met  not met  not met        not met             met   \n",
              "1    not met      met  not met  not met        not met             met   \n",
              "2    not met      met      met  not met            met             met   \n",
              "3    not met  not met      met  not met        not met             met   \n",
              "4    not met      met  not met  not met            met             met   \n",
              "\n",
              "   MI-6MOS record_file                                        record_text  \n",
              "0  not met     162.xml  Record date: 2068-02-04\\n\\nASSOCIATED ARTHRITI...  \n",
              "1  not met     176.xml  Record date: 2085-04-22\\n\\n \\nThis patient wan...  \n",
              "2  not met     189.xml  Record date: 2090-07-07\\n\\nWillow Gardens Care...  \n",
              "3      met     214.xml  Record date: 2096-07-15\\n\\n\\n\\nResults01/31/20...  \n",
              "4  not met     200.xml  Record date: 2170-02-17\\n\\n \\n\\nReason for Vis...  "
            ]
          },
          "execution_count": 48,
          "metadata": {},
          "output_type": "execute_result"
        }
      ],
      "source": [
        "#@title\n",
        "df.head()"
      ]
    },
    {
      "cell_type": "code",
      "execution_count": null,
      "metadata": {
        "collapsed": true,
        "id": "Ekgft-H6iBi3"
      },
      "outputs": [],
      "source": [
        "#@title\n",
        "df = df[['record_file', 'record_text', 'ABDOMINAL', 'ADVANCED-CAD', 'ALCOHOL-ABUSE', 'ASP-FOR-MI', 'CREATININE', \\\n",
        "        'DIETSUPP-2MOS', 'DRUG-ABUSE', 'ENGLISH', 'HBA1C', 'KETO-1YR',\\\n",
        "        'MAJOR-DIABETES', 'MAKES-DECISIONS', 'MI-6MOS']]"
      ]
    },
    {
      "cell_type": "code",
      "execution_count": null,
      "metadata": {
        "id": "VJbKo9xgiBi6",
        "outputId": "872d59aa-b272-468a-f539-165d339f160a"
      },
      "outputs": [
        {
          "data": {
            "text/html": [
              "<div>\n",
              "<style scoped>\n",
              "    .dataframe tbody tr th:only-of-type {\n",
              "        vertical-align: middle;\n",
              "    }\n",
              "\n",
              "    .dataframe tbody tr th {\n",
              "        vertical-align: top;\n",
              "    }\n",
              "\n",
              "    .dataframe thead th {\n",
              "        text-align: right;\n",
              "    }\n",
              "</style>\n",
              "<table border=\"1\" class=\"dataframe\">\n",
              "  <thead>\n",
              "    <tr style=\"text-align: right;\">\n",
              "      <th></th>\n",
              "      <th>record_file</th>\n",
              "      <th>record_text</th>\n",
              "      <th>ABDOMINAL</th>\n",
              "      <th>ADVANCED-CAD</th>\n",
              "      <th>ALCOHOL-ABUSE</th>\n",
              "      <th>ASP-FOR-MI</th>\n",
              "      <th>CREATININE</th>\n",
              "      <th>DIETSUPP-2MOS</th>\n",
              "      <th>DRUG-ABUSE</th>\n",
              "      <th>ENGLISH</th>\n",
              "      <th>HBA1C</th>\n",
              "      <th>KETO-1YR</th>\n",
              "      <th>MAJOR-DIABETES</th>\n",
              "      <th>MAKES-DECISIONS</th>\n",
              "      <th>MI-6MOS</th>\n",
              "    </tr>\n",
              "  </thead>\n",
              "  <tbody>\n",
              "    <tr>\n",
              "      <th>0</th>\n",
              "      <td>162.xml</td>\n",
              "      <td>Record date: 2068-02-04\\n\\nASSOCIATED ARTHRITI...</td>\n",
              "      <td>met</td>\n",
              "      <td>met</td>\n",
              "      <td>not met</td>\n",
              "      <td>met</td>\n",
              "      <td>not met</td>\n",
              "      <td>not met</td>\n",
              "      <td>not met</td>\n",
              "      <td>met</td>\n",
              "      <td>not met</td>\n",
              "      <td>not met</td>\n",
              "      <td>not met</td>\n",
              "      <td>met</td>\n",
              "      <td>not met</td>\n",
              "    </tr>\n",
              "    <tr>\n",
              "      <th>1</th>\n",
              "      <td>176.xml</td>\n",
              "      <td>Record date: 2085-04-22\\n\\n \\nThis patient wan...</td>\n",
              "      <td>met</td>\n",
              "      <td>not met</td>\n",
              "      <td>met</td>\n",
              "      <td>not met</td>\n",
              "      <td>not met</td>\n",
              "      <td>met</td>\n",
              "      <td>not met</td>\n",
              "      <td>met</td>\n",
              "      <td>not met</td>\n",
              "      <td>not met</td>\n",
              "      <td>not met</td>\n",
              "      <td>met</td>\n",
              "      <td>not met</td>\n",
              "    </tr>\n",
              "    <tr>\n",
              "      <th>2</th>\n",
              "      <td>189.xml</td>\n",
              "      <td>Record date: 2090-07-07\\n\\nWillow Gardens Care...</td>\n",
              "      <td>not met</td>\n",
              "      <td>met</td>\n",
              "      <td>not met</td>\n",
              "      <td>met</td>\n",
              "      <td>met</td>\n",
              "      <td>met</td>\n",
              "      <td>not met</td>\n",
              "      <td>met</td>\n",
              "      <td>met</td>\n",
              "      <td>not met</td>\n",
              "      <td>met</td>\n",
              "      <td>met</td>\n",
              "      <td>not met</td>\n",
              "    </tr>\n",
              "    <tr>\n",
              "      <th>3</th>\n",
              "      <td>214.xml</td>\n",
              "      <td>Record date: 2096-07-15\\n\\n\\n\\nResults01/31/20...</td>\n",
              "      <td>not met</td>\n",
              "      <td>met</td>\n",
              "      <td>not met</td>\n",
              "      <td>met</td>\n",
              "      <td>not met</td>\n",
              "      <td>met</td>\n",
              "      <td>not met</td>\n",
              "      <td>not met</td>\n",
              "      <td>met</td>\n",
              "      <td>not met</td>\n",
              "      <td>not met</td>\n",
              "      <td>met</td>\n",
              "      <td>met</td>\n",
              "    </tr>\n",
              "    <tr>\n",
              "      <th>4</th>\n",
              "      <td>200.xml</td>\n",
              "      <td>Record date: 2170-02-17\\n\\n \\n\\nReason for Vis...</td>\n",
              "      <td>met</td>\n",
              "      <td>not met</td>\n",
              "      <td>not met</td>\n",
              "      <td>met</td>\n",
              "      <td>not met</td>\n",
              "      <td>met</td>\n",
              "      <td>not met</td>\n",
              "      <td>met</td>\n",
              "      <td>not met</td>\n",
              "      <td>not met</td>\n",
              "      <td>met</td>\n",
              "      <td>met</td>\n",
              "      <td>not met</td>\n",
              "    </tr>\n",
              "  </tbody>\n",
              "</table>\n",
              "</div>"
            ],
            "text/plain": [
              "  record_file                                        record_text ABDOMINAL  \\\n",
              "0     162.xml  Record date: 2068-02-04\\n\\nASSOCIATED ARTHRITI...       met   \n",
              "1     176.xml  Record date: 2085-04-22\\n\\n \\nThis patient wan...       met   \n",
              "2     189.xml  Record date: 2090-07-07\\n\\nWillow Gardens Care...   not met   \n",
              "3     214.xml  Record date: 2096-07-15\\n\\n\\n\\nResults01/31/20...   not met   \n",
              "4     200.xml  Record date: 2170-02-17\\n\\n \\n\\nReason for Vis...       met   \n",
              "\n",
              "  ADVANCED-CAD ALCOHOL-ABUSE ASP-FOR-MI CREATININE DIETSUPP-2MOS DRUG-ABUSE  \\\n",
              "0          met       not met        met    not met       not met    not met   \n",
              "1      not met           met    not met    not met           met    not met   \n",
              "2          met       not met        met        met           met    not met   \n",
              "3          met       not met        met    not met           met    not met   \n",
              "4      not met       not met        met    not met           met    not met   \n",
              "\n",
              "   ENGLISH    HBA1C KETO-1YR MAJOR-DIABETES MAKES-DECISIONS  MI-6MOS  \n",
              "0      met  not met  not met        not met             met  not met  \n",
              "1      met  not met  not met        not met             met  not met  \n",
              "2      met      met  not met            met             met  not met  \n",
              "3  not met      met  not met        not met             met      met  \n",
              "4      met  not met  not met            met             met  not met  "
            ]
          },
          "execution_count": 50,
          "metadata": {},
          "output_type": "execute_result"
        }
      ],
      "source": [
        "#@title\n",
        "df.head()"
      ]
    },
    {
      "cell_type": "code",
      "execution_count": null,
      "metadata": {
        "id": "s_PPPqAkiBi7",
        "outputId": "f7ad84d1-5cb4-4e90-f82d-e9e3cf95d0dd"
      },
      "outputs": [
        {
          "name": "stdout",
          "output_type": "stream",
          "text": [
            "<class 'pandas.core.frame.DataFrame'>\n",
            "RangeIndex: 202 entries, 0 to 201\n",
            "Data columns (total 15 columns):\n",
            " #   Column           Non-Null Count  Dtype \n",
            "---  ------           --------------  ----- \n",
            " 0   record_file      202 non-null    object\n",
            " 1   record_text      202 non-null    object\n",
            " 2   ABDOMINAL        202 non-null    object\n",
            " 3   ADVANCED-CAD     202 non-null    object\n",
            " 4   ALCOHOL-ABUSE    202 non-null    object\n",
            " 5   ASP-FOR-MI       202 non-null    object\n",
            " 6   CREATININE       202 non-null    object\n",
            " 7   DIETSUPP-2MOS    202 non-null    object\n",
            " 8   DRUG-ABUSE       202 non-null    object\n",
            " 9   ENGLISH          202 non-null    object\n",
            " 10  HBA1C            202 non-null    object\n",
            " 11  KETO-1YR         202 non-null    object\n",
            " 12  MAJOR-DIABETES   202 non-null    object\n",
            " 13  MAKES-DECISIONS  202 non-null    object\n",
            " 14  MI-6MOS          202 non-null    object\n",
            "dtypes: object(15)\n",
            "memory usage: 23.8+ KB\n"
          ]
        }
      ],
      "source": [
        "#@title\n",
        "df.info()"
      ]
    },
    {
      "cell_type": "markdown",
      "metadata": {
        "id": "B9Z47sdDiBi8"
      },
      "source": [
        "## Save the Data as CSV"
      ]
    },
    {
      "cell_type": "code",
      "execution_count": null,
      "metadata": {
        "collapsed": true,
        "id": "3hsfLQDWiBi9",
        "colab": {
          "base_uri": "https://localhost:8080/",
          "height": 183
        },
        "outputId": "96d87cc7-44ad-4d41-eb5c-3ae4b04d4827"
      },
      "outputs": [
        {
          "output_type": "error",
          "ename": "NameError",
          "evalue": "ignored",
          "traceback": [
            "\u001b[0;31m---------------------------------------------------------------------------\u001b[0m",
            "\u001b[0;31mNameError\u001b[0m                                 Traceback (most recent call last)",
            "\u001b[0;32m<ipython-input-9-46744ec921d0>\u001b[0m in \u001b[0;36m<cell line: 2>\u001b[0;34m()\u001b[0m\n\u001b[1;32m      1\u001b[0m \u001b[0;31m#@title\u001b[0m\u001b[0;34m\u001b[0m\u001b[0;34m\u001b[0m\u001b[0m\n\u001b[0;32m----> 2\u001b[0;31m \u001b[0mdf\u001b[0m\u001b[0;34m.\u001b[0m\u001b[0mto_csv\u001b[0m\u001b[0;34m(\u001b[0m\u001b[0;34m\"all-train.csv\"\u001b[0m\u001b[0;34m)\u001b[0m\u001b[0;34m\u001b[0m\u001b[0;34m\u001b[0m\u001b[0m\n\u001b[0m",
            "\u001b[0;31mNameError\u001b[0m: name 'df' is not defined"
          ]
        }
      ],
      "source": [
        "#@title\n",
        "df.to_csv(\"all-train.csv\")"
      ]
    }
  ]
}